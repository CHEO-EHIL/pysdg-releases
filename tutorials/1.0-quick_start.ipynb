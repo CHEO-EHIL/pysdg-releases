{
 "cells": [
  {
   "cell_type": "markdown",
   "metadata": {},
   "source": [
    "# Tutorial: Quick start"
   ]
  },
  {
   "cell_type": "markdown",
   "metadata": {},
   "source": [
    "**This tutorial provides a quick introduction to using pysdg.** It assumes that pysdg is already installed in a Conda environment, the environment has been activated from the shell, and this notebook is being run within that activated environment. For detailed instructions, please refer to the \"pysdg\" documentation."
   ]
  },
  {
   "cell_type": "markdown",
   "metadata": {},
   "source": [
    "The core functions in pysdg include: loading, training, generating and unloading. "
   ]
  },
  {
   "cell_type": "markdown",
   "metadata": {},
   "source": [
    "### Import \n",
    "\n",
    "First we import the Generator class from `pysdg` synth module. "
   ]
  },
  {
   "cell_type": "code",
   "execution_count": 4,
   "metadata": {},
   "outputs": [],
   "source": [
    "from pysdg.gen import Generator  "
   ]
  },
  {
   "cell_type": "markdown",
   "metadata": {},
   "source": [
    "### Create a Generator Object\n",
    "\n",
    "Create a Generator object with your generator of interest."
   ]
  },
  {
   "cell_type": "code",
   "execution_count": 5,
   "metadata": {},
   "outputs": [
    {
     "name": "stderr",
     "output_type": "stream",
     "text": [
      "2025-05-12 15:24:40,903 - pysdg - INFO - 1440 - generate.py:122 - **************Started logging the generator: synthcity/bayesian_network, num_cores= None.**************\n"
     ]
    }
   ],
   "source": [
    "gen=Generator(\"synthcity/bayesian_network\")"
   ]
  },
  {
   "cell_type": "markdown",
   "metadata": {},
   "source": [
    "### Load (Real) Training Data\n",
    "\n",
    "**Option1:** Infer variable types (default) when loading the data."
   ]
  },
  {
   "cell_type": "code",
   "execution_count": 6,
   "metadata": {},
   "outputs": [
    {
     "name": "stderr",
     "output_type": "stream",
     "text": [
      "2025-05-12 15:24:43,938 - pysdg - INFO - 1440 - generate.py:461 - The dataset ['unnamed'] is loaded into the generator synthcity_bayesian_network\n"
     ]
    },
    {
     "data": {
      "application/vnd.microsoft.datawrangler.viewer.v0+json": {
       "columns": [
        {
         "name": "index",
         "rawType": "int64",
         "type": "integer"
        },
        {
         "name": "outc_cod_0",
         "rawType": "category",
         "type": "unknown"
        },
        {
         "name": "event_dt",
         "rawType": "category",
         "type": "unknown"
        },
        {
         "name": "wt",
         "rawType": "float64",
         "type": "float"
        },
        {
         "name": "wt_cod",
         "rawType": "category",
         "type": "unknown"
        },
        {
         "name": "age",
         "rawType": "float64",
         "type": "float"
        },
        {
         "name": "age_cod",
         "rawType": "category",
         "type": "unknown"
        },
        {
         "name": "drugname_0",
         "rawType": "category",
         "type": "unknown"
        },
        {
         "name": "indi_pt_0",
         "rawType": "category",
         "type": "unknown"
        },
        {
         "name": "sex",
         "rawType": "category",
         "type": "unknown"
        }
       ],
       "conversionMethod": "pd.DataFrame",
       "ref": "9f6b24dd-1f1f-4cf3-9c3f-2e8f70bedef6",
       "rows": [
        [
         "0",
         null,
         null,
         null,
         null,
         null,
         null,
         "ZANTAC",
         null,
         null
        ],
        [
         "1",
         "DE",
         "201506",
         null,
         null,
         "18.0",
         "YR",
         "OXYCONTIN",
         "Drug abuse",
         "M"
        ],
        [
         "2",
         "OT",
         "201907",
         null,
         null,
         null,
         null,
         "LEMTRADA",
         null,
         null
        ],
        [
         "3",
         "OT",
         "20190917",
         null,
         null,
         "46.0",
         "YR",
         "COSENTYX",
         "Psoriatic arthropathy",
         "M"
        ],
        [
         "4",
         "DE",
         "20161201",
         "110.0",
         "KG",
         "73.0",
         "YR",
         "ENTRESTO",
         "Cardiac failure",
         "M"
        ],
        [
         "5",
         "OT",
         null,
         "95.0",
         "KG",
         "33.0",
         "YR",
         "Champix",
         "Smoking cessation therapy",
         "M"
        ],
        [
         "6",
         null,
         null,
         null,
         null,
         null,
         null,
         "CEFTRIAXONE SODIUM",
         null,
         null
        ],
        [
         "7",
         null,
         null,
         "86.0",
         "KG",
         "74.0",
         "YR",
         "LYRICA",
         "Nerve injury",
         "F"
        ],
        [
         "8",
         null,
         null,
         null,
         null,
         null,
         null,
         "XELJANZ",
         null,
         null
        ],
        [
         "9",
         null,
         "20190907",
         null,
         null,
         "57.0",
         "YR",
         "COSENTYX",
         "Ankylosing spondylitis",
         "M"
        ]
       ],
       "shape": {
        "columns": 9,
        "rows": 10
       }
      },
      "text/html": [
       "<div>\n",
       "<style scoped>\n",
       "    .dataframe tbody tr th:only-of-type {\n",
       "        vertical-align: middle;\n",
       "    }\n",
       "\n",
       "    .dataframe tbody tr th {\n",
       "        vertical-align: top;\n",
       "    }\n",
       "\n",
       "    .dataframe thead th {\n",
       "        text-align: right;\n",
       "    }\n",
       "</style>\n",
       "<table border=\"1\" class=\"dataframe\">\n",
       "  <thead>\n",
       "    <tr style=\"text-align: right;\">\n",
       "      <th></th>\n",
       "      <th>outc_cod_0</th>\n",
       "      <th>event_dt</th>\n",
       "      <th>wt</th>\n",
       "      <th>wt_cod</th>\n",
       "      <th>age</th>\n",
       "      <th>age_cod</th>\n",
       "      <th>drugname_0</th>\n",
       "      <th>indi_pt_0</th>\n",
       "      <th>sex</th>\n",
       "    </tr>\n",
       "  </thead>\n",
       "  <tbody>\n",
       "    <tr>\n",
       "      <th>0</th>\n",
       "      <td>NaN</td>\n",
       "      <td>NaN</td>\n",
       "      <td>NaN</td>\n",
       "      <td>NaN</td>\n",
       "      <td>NaN</td>\n",
       "      <td>NaN</td>\n",
       "      <td>ZANTAC</td>\n",
       "      <td>NaN</td>\n",
       "      <td>NaN</td>\n",
       "    </tr>\n",
       "    <tr>\n",
       "      <th>1</th>\n",
       "      <td>DE</td>\n",
       "      <td>201506</td>\n",
       "      <td>NaN</td>\n",
       "      <td>NaN</td>\n",
       "      <td>18.0</td>\n",
       "      <td>YR</td>\n",
       "      <td>OXYCONTIN</td>\n",
       "      <td>Drug abuse</td>\n",
       "      <td>M</td>\n",
       "    </tr>\n",
       "    <tr>\n",
       "      <th>2</th>\n",
       "      <td>OT</td>\n",
       "      <td>201907</td>\n",
       "      <td>NaN</td>\n",
       "      <td>NaN</td>\n",
       "      <td>NaN</td>\n",
       "      <td>NaN</td>\n",
       "      <td>LEMTRADA</td>\n",
       "      <td>NaN</td>\n",
       "      <td>NaN</td>\n",
       "    </tr>\n",
       "    <tr>\n",
       "      <th>3</th>\n",
       "      <td>OT</td>\n",
       "      <td>20190917</td>\n",
       "      <td>NaN</td>\n",
       "      <td>NaN</td>\n",
       "      <td>46.0</td>\n",
       "      <td>YR</td>\n",
       "      <td>COSENTYX</td>\n",
       "      <td>Psoriatic arthropathy</td>\n",
       "      <td>M</td>\n",
       "    </tr>\n",
       "    <tr>\n",
       "      <th>4</th>\n",
       "      <td>DE</td>\n",
       "      <td>20161201</td>\n",
       "      <td>110.0</td>\n",
       "      <td>KG</td>\n",
       "      <td>73.0</td>\n",
       "      <td>YR</td>\n",
       "      <td>ENTRESTO</td>\n",
       "      <td>Cardiac failure</td>\n",
       "      <td>M</td>\n",
       "    </tr>\n",
       "    <tr>\n",
       "      <th>5</th>\n",
       "      <td>OT</td>\n",
       "      <td>NaN</td>\n",
       "      <td>95.0</td>\n",
       "      <td>KG</td>\n",
       "      <td>33.0</td>\n",
       "      <td>YR</td>\n",
       "      <td>Champix</td>\n",
       "      <td>Smoking cessation therapy</td>\n",
       "      <td>M</td>\n",
       "    </tr>\n",
       "    <tr>\n",
       "      <th>6</th>\n",
       "      <td>NaN</td>\n",
       "      <td>NaN</td>\n",
       "      <td>NaN</td>\n",
       "      <td>NaN</td>\n",
       "      <td>NaN</td>\n",
       "      <td>NaN</td>\n",
       "      <td>CEFTRIAXONE SODIUM</td>\n",
       "      <td>NaN</td>\n",
       "      <td>NaN</td>\n",
       "    </tr>\n",
       "    <tr>\n",
       "      <th>7</th>\n",
       "      <td>NaN</td>\n",
       "      <td>NaN</td>\n",
       "      <td>86.0</td>\n",
       "      <td>KG</td>\n",
       "      <td>74.0</td>\n",
       "      <td>YR</td>\n",
       "      <td>LYRICA</td>\n",
       "      <td>Nerve injury</td>\n",
       "      <td>F</td>\n",
       "    </tr>\n",
       "    <tr>\n",
       "      <th>8</th>\n",
       "      <td>NaN</td>\n",
       "      <td>NaN</td>\n",
       "      <td>NaN</td>\n",
       "      <td>NaN</td>\n",
       "      <td>NaN</td>\n",
       "      <td>NaN</td>\n",
       "      <td>XELJANZ</td>\n",
       "      <td>NaN</td>\n",
       "      <td>NaN</td>\n",
       "    </tr>\n",
       "    <tr>\n",
       "      <th>9</th>\n",
       "      <td>NaN</td>\n",
       "      <td>20190907</td>\n",
       "      <td>NaN</td>\n",
       "      <td>NaN</td>\n",
       "      <td>57.0</td>\n",
       "      <td>YR</td>\n",
       "      <td>COSENTYX</td>\n",
       "      <td>Ankylosing spondylitis</td>\n",
       "      <td>M</td>\n",
       "    </tr>\n",
       "  </tbody>\n",
       "</table>\n",
       "</div>"
      ],
      "text/plain": [
       "  outc_cod_0  event_dt     wt wt_cod   age age_cod          drugname_0  \\\n",
       "0        NaN       NaN    NaN    NaN   NaN     NaN              ZANTAC   \n",
       "1         DE    201506    NaN    NaN  18.0      YR           OXYCONTIN   \n",
       "2         OT    201907    NaN    NaN   NaN     NaN            LEMTRADA   \n",
       "3         OT  20190917    NaN    NaN  46.0      YR            COSENTYX   \n",
       "4         DE  20161201  110.0     KG  73.0      YR            ENTRESTO   \n",
       "5         OT       NaN   95.0     KG  33.0      YR             Champix   \n",
       "6        NaN       NaN    NaN    NaN   NaN     NaN  CEFTRIAXONE SODIUM   \n",
       "7        NaN       NaN   86.0     KG  74.0      YR              LYRICA   \n",
       "8        NaN       NaN    NaN    NaN   NaN     NaN             XELJANZ   \n",
       "9        NaN  20190907    NaN    NaN  57.0      YR            COSENTYX   \n",
       "\n",
       "                   indi_pt_0  sex  \n",
       "0                        NaN  NaN  \n",
       "1                 Drug abuse    M  \n",
       "2                        NaN  NaN  \n",
       "3      Psoriatic arthropathy    M  \n",
       "4            Cardiac failure    M  \n",
       "5  Smoking cessation therapy    M  \n",
       "6                        NaN  NaN  \n",
       "7               Nerve injury    F  \n",
       "8                        NaN  NaN  \n",
       "9     Ankylosing spondylitis    M  "
      ]
     },
     "execution_count": 6,
     "metadata": {},
     "output_type": "execute_result"
    }
   ],
   "source": [
    "real=gen.load(raw_data='raw_data.csv')\n",
    "real.head(10)"
   ]
  },
  {
   "cell_type": "markdown",
   "metadata": {},
   "source": [
    "**Option2:** Explicitly define the types of variables. "
   ]
  },
  {
   "cell_type": "code",
   "execution_count": 7,
   "metadata": {},
   "outputs": [
    {
     "name": "stderr",
     "output_type": "stream",
     "text": [
      "2025-05-12 15:24:49,304 - pysdg - INFO - 1440 - generate.py:347 - Checking the input metadata for any conflict in variable indexes - Passed.\n",
      "2025-05-12 15:24:50,060 - pysdg - INFO - 1440 - generate.py:461 - The dataset ['tutorial_data'] is loaded into the generator synthcity_bayesian_network\n"
     ]
    },
    {
     "data": {
      "application/vnd.microsoft.datawrangler.viewer.v0+json": {
       "columns": [
        {
         "name": "index",
         "rawType": "int64",
         "type": "integer"
        },
        {
         "name": "outc_cod_0",
         "rawType": "category",
         "type": "unknown"
        },
        {
         "name": "event_dt",
         "rawType": "datetime64[ns]",
         "type": "datetime"
        },
        {
         "name": "wt",
         "rawType": "float64",
         "type": "float"
        },
        {
         "name": "wt_cod",
         "rawType": "category",
         "type": "unknown"
        },
        {
         "name": "age",
         "rawType": "Int64",
         "type": "integer"
        },
        {
         "name": "age_cod",
         "rawType": "category",
         "type": "unknown"
        },
        {
         "name": "drugname_0",
         "rawType": "category",
         "type": "unknown"
        },
        {
         "name": "indi_pt_0",
         "rawType": "category",
         "type": "unknown"
        },
        {
         "name": "sex",
         "rawType": "category",
         "type": "unknown"
        }
       ],
       "conversionMethod": "pd.DataFrame",
       "ref": "eeaeabc7-3aab-4497-8e17-f40e6ca8416c",
       "rows": [
        [
         "0",
         null,
         null,
         null,
         null,
         null,
         null,
         "ZANTAC",
         null,
         null
        ],
        [
         "1",
         "DE",
         null,
         null,
         null,
         "18",
         "YR",
         "OXYCONTIN",
         "Drug abuse",
         "M"
        ],
        [
         "2",
         "OT",
         null,
         null,
         null,
         null,
         null,
         "LEMTRADA",
         null,
         null
        ],
        [
         "3",
         "OT",
         "2019-09-17 00:00:00",
         null,
         null,
         "46",
         "YR",
         "COSENTYX",
         "Psoriatic arthropathy",
         "M"
        ],
        [
         "4",
         "DE",
         "2016-12-01 00:00:00",
         "110.0",
         "KG",
         "73",
         "YR",
         "ENTRESTO",
         "Cardiac failure",
         "M"
        ],
        [
         "5",
         "OT",
         null,
         "95.0",
         "KG",
         "33",
         "YR",
         "Champix",
         "Smoking cessation therapy",
         "M"
        ],
        [
         "6",
         null,
         null,
         null,
         null,
         null,
         null,
         "CEFTRIAXONE SODIUM",
         null,
         null
        ],
        [
         "7",
         null,
         null,
         "86.0",
         "KG",
         "74",
         "YR",
         "LYRICA",
         "Nerve injury",
         "F"
        ],
        [
         "8",
         null,
         null,
         null,
         null,
         null,
         null,
         "XELJANZ",
         null,
         null
        ],
        [
         "9",
         null,
         "2019-09-07 00:00:00",
         null,
         null,
         "57",
         "YR",
         "COSENTYX",
         "Ankylosing spondylitis",
         "M"
        ]
       ],
       "shape": {
        "columns": 9,
        "rows": 10
       }
      },
      "text/html": [
       "<div>\n",
       "<style scoped>\n",
       "    .dataframe tbody tr th:only-of-type {\n",
       "        vertical-align: middle;\n",
       "    }\n",
       "\n",
       "    .dataframe tbody tr th {\n",
       "        vertical-align: top;\n",
       "    }\n",
       "\n",
       "    .dataframe thead th {\n",
       "        text-align: right;\n",
       "    }\n",
       "</style>\n",
       "<table border=\"1\" class=\"dataframe\">\n",
       "  <thead>\n",
       "    <tr style=\"text-align: right;\">\n",
       "      <th></th>\n",
       "      <th>outc_cod_0</th>\n",
       "      <th>event_dt</th>\n",
       "      <th>wt</th>\n",
       "      <th>wt_cod</th>\n",
       "      <th>age</th>\n",
       "      <th>age_cod</th>\n",
       "      <th>drugname_0</th>\n",
       "      <th>indi_pt_0</th>\n",
       "      <th>sex</th>\n",
       "    </tr>\n",
       "  </thead>\n",
       "  <tbody>\n",
       "    <tr>\n",
       "      <th>0</th>\n",
       "      <td>NaN</td>\n",
       "      <td>NaT</td>\n",
       "      <td>NaN</td>\n",
       "      <td>NaN</td>\n",
       "      <td>&lt;NA&gt;</td>\n",
       "      <td>NaN</td>\n",
       "      <td>ZANTAC</td>\n",
       "      <td>NaN</td>\n",
       "      <td>NaN</td>\n",
       "    </tr>\n",
       "    <tr>\n",
       "      <th>1</th>\n",
       "      <td>DE</td>\n",
       "      <td>NaT</td>\n",
       "      <td>NaN</td>\n",
       "      <td>NaN</td>\n",
       "      <td>18</td>\n",
       "      <td>YR</td>\n",
       "      <td>OXYCONTIN</td>\n",
       "      <td>Drug abuse</td>\n",
       "      <td>M</td>\n",
       "    </tr>\n",
       "    <tr>\n",
       "      <th>2</th>\n",
       "      <td>OT</td>\n",
       "      <td>NaT</td>\n",
       "      <td>NaN</td>\n",
       "      <td>NaN</td>\n",
       "      <td>&lt;NA&gt;</td>\n",
       "      <td>NaN</td>\n",
       "      <td>LEMTRADA</td>\n",
       "      <td>NaN</td>\n",
       "      <td>NaN</td>\n",
       "    </tr>\n",
       "    <tr>\n",
       "      <th>3</th>\n",
       "      <td>OT</td>\n",
       "      <td>2019-09-17</td>\n",
       "      <td>NaN</td>\n",
       "      <td>NaN</td>\n",
       "      <td>46</td>\n",
       "      <td>YR</td>\n",
       "      <td>COSENTYX</td>\n",
       "      <td>Psoriatic arthropathy</td>\n",
       "      <td>M</td>\n",
       "    </tr>\n",
       "    <tr>\n",
       "      <th>4</th>\n",
       "      <td>DE</td>\n",
       "      <td>2016-12-01</td>\n",
       "      <td>110.0</td>\n",
       "      <td>KG</td>\n",
       "      <td>73</td>\n",
       "      <td>YR</td>\n",
       "      <td>ENTRESTO</td>\n",
       "      <td>Cardiac failure</td>\n",
       "      <td>M</td>\n",
       "    </tr>\n",
       "    <tr>\n",
       "      <th>5</th>\n",
       "      <td>OT</td>\n",
       "      <td>NaT</td>\n",
       "      <td>95.0</td>\n",
       "      <td>KG</td>\n",
       "      <td>33</td>\n",
       "      <td>YR</td>\n",
       "      <td>Champix</td>\n",
       "      <td>Smoking cessation therapy</td>\n",
       "      <td>M</td>\n",
       "    </tr>\n",
       "    <tr>\n",
       "      <th>6</th>\n",
       "      <td>NaN</td>\n",
       "      <td>NaT</td>\n",
       "      <td>NaN</td>\n",
       "      <td>NaN</td>\n",
       "      <td>&lt;NA&gt;</td>\n",
       "      <td>NaN</td>\n",
       "      <td>CEFTRIAXONE SODIUM</td>\n",
       "      <td>NaN</td>\n",
       "      <td>NaN</td>\n",
       "    </tr>\n",
       "    <tr>\n",
       "      <th>7</th>\n",
       "      <td>NaN</td>\n",
       "      <td>NaT</td>\n",
       "      <td>86.0</td>\n",
       "      <td>KG</td>\n",
       "      <td>74</td>\n",
       "      <td>YR</td>\n",
       "      <td>LYRICA</td>\n",
       "      <td>Nerve injury</td>\n",
       "      <td>F</td>\n",
       "    </tr>\n",
       "    <tr>\n",
       "      <th>8</th>\n",
       "      <td>NaN</td>\n",
       "      <td>NaT</td>\n",
       "      <td>NaN</td>\n",
       "      <td>NaN</td>\n",
       "      <td>&lt;NA&gt;</td>\n",
       "      <td>NaN</td>\n",
       "      <td>XELJANZ</td>\n",
       "      <td>NaN</td>\n",
       "      <td>NaN</td>\n",
       "    </tr>\n",
       "    <tr>\n",
       "      <th>9</th>\n",
       "      <td>NaN</td>\n",
       "      <td>2019-09-07</td>\n",
       "      <td>NaN</td>\n",
       "      <td>NaN</td>\n",
       "      <td>57</td>\n",
       "      <td>YR</td>\n",
       "      <td>COSENTYX</td>\n",
       "      <td>Ankylosing spondylitis</td>\n",
       "      <td>M</td>\n",
       "    </tr>\n",
       "  </tbody>\n",
       "</table>\n",
       "</div>"
      ],
      "text/plain": [
       "  outc_cod_0   event_dt     wt wt_cod   age age_cod          drugname_0  \\\n",
       "0        NaN        NaT    NaN    NaN  <NA>     NaN              ZANTAC   \n",
       "1         DE        NaT    NaN    NaN    18      YR           OXYCONTIN   \n",
       "2         OT        NaT    NaN    NaN  <NA>     NaN            LEMTRADA   \n",
       "3         OT 2019-09-17    NaN    NaN    46      YR            COSENTYX   \n",
       "4         DE 2016-12-01  110.0     KG    73      YR            ENTRESTO   \n",
       "5         OT        NaT   95.0     KG    33      YR             Champix   \n",
       "6        NaN        NaT    NaN    NaN  <NA>     NaN  CEFTRIAXONE SODIUM   \n",
       "7        NaN        NaT   86.0     KG    74      YR              LYRICA   \n",
       "8        NaN        NaT    NaN    NaN  <NA>     NaN             XELJANZ   \n",
       "9        NaN 2019-09-07    NaN    NaN    57      YR            COSENTYX   \n",
       "\n",
       "                   indi_pt_0  sex  \n",
       "0                        NaN  NaN  \n",
       "1                 Drug abuse    M  \n",
       "2                        NaN  NaN  \n",
       "3      Psoriatic arthropathy    M  \n",
       "4            Cardiac failure    M  \n",
       "5  Smoking cessation therapy    M  \n",
       "6                        NaN  NaN  \n",
       "7               Nerve injury    F  \n",
       "8                        NaN  NaN  \n",
       "9     Ankylosing spondylitis    M  "
      ]
     },
     "execution_count": 7,
     "metadata": {},
     "output_type": "execute_result"
    }
   ],
   "source": [
    "# Load the raw dataset and raw info file into the generator. The returned real dataset will have all data types correctly converted according to the specifications in the raw info file.\n",
    "real=gen.load(raw_data='raw_data.csv', raw_info='raw_info.json')\n",
    "real.head(10)"
   ]
  },
  {
   "cell_type": "markdown",
   "metadata": {},
   "source": [
    "### Train the Generator\n",
    "\n",
    "Train the generator on the real dataset."
   ]
  },
  {
   "cell_type": "code",
   "execution_count": 8,
   "metadata": {},
   "outputs": [
    {
     "name": "stderr",
     "output_type": "stream",
     "text": [
      "[2025-05-12T15:24:54.749597-0400][1440][CRITICAL] module disabled: /home/samer/miniconda3/envs/pysdgdev/lib/python3.10/site-packages/synthcity/plugins/generic/plugin_goggle.py\n",
      "2025-05-12 15:24:56,318 - pysdg - INFO - 1440 - generate.py:925 - Started training using synthcity_bayesian_network...\n",
      "INFO:pysdg:Started training using synthcity_bayesian_network...\n",
      "/home/samer/miniconda3/envs/pysdgdev/lib/python3.10/site-packages/sklearn/metrics/cluster/_supervised.py:66: UserWarning: Clustering metrics expects discrete values but received multiclass values for label, and continuous values for target\n",
      "  warnings.warn(msg, UserWarning)\n",
      "/home/samer/miniconda3/envs/pysdgdev/lib/python3.10/site-packages/sklearn/metrics/cluster/_supervised.py:66: UserWarning: Clustering metrics expects discrete values but received multiclass values for label, and continuous values for target\n",
      "  warnings.warn(msg, UserWarning)\n",
      "/home/samer/miniconda3/envs/pysdgdev/lib/python3.10/site-packages/sklearn/metrics/cluster/_supervised.py:66: UserWarning: Clustering metrics expects discrete values but received continuous values for label, and multiclass values for target\n",
      "  warnings.warn(msg, UserWarning)\n",
      "/home/samer/miniconda3/envs/pysdgdev/lib/python3.10/site-packages/sklearn/metrics/cluster/_supervised.py:66: UserWarning: Clustering metrics expects discrete values but received continuous values for label, and multiclass values for target\n",
      "  warnings.warn(msg, UserWarning)\n",
      "/home/samer/miniconda3/envs/pysdgdev/lib/python3.10/site-packages/sklearn/metrics/cluster/_supervised.py:66: UserWarning: Clustering metrics expects discrete values but received continuous values for label, and binary values for target\n",
      "  warnings.warn(msg, UserWarning)\n",
      "/home/samer/miniconda3/envs/pysdgdev/lib/python3.10/site-packages/sklearn/metrics/cluster/_supervised.py:66: UserWarning: Clustering metrics expects discrete values but received continuous values for label, and binary values for target\n",
      "  warnings.warn(msg, UserWarning)\n",
      "/home/samer/miniconda3/envs/pysdgdev/lib/python3.10/site-packages/sklearn/metrics/cluster/_supervised.py:66: UserWarning: Clustering metrics expects discrete values but received continuous values for label, and binary values for target\n",
      "  warnings.warn(msg, UserWarning)\n",
      "/home/samer/miniconda3/envs/pysdgdev/lib/python3.10/site-packages/sklearn/metrics/cluster/_supervised.py:66: UserWarning: Clustering metrics expects discrete values but received continuous values for label, and multiclass values for target\n",
      "  warnings.warn(msg, UserWarning)\n",
      "/home/samer/miniconda3/envs/pysdgdev/lib/python3.10/site-packages/sklearn/metrics/cluster/_supervised.py:66: UserWarning: Clustering metrics expects discrete values but received continuous values for label, and multiclass values for target\n",
      "  warnings.warn(msg, UserWarning)\n",
      "/home/samer/miniconda3/envs/pysdgdev/lib/python3.10/site-packages/sklearn/metrics/cluster/_supervised.py:66: UserWarning: Clustering metrics expects discrete values but received continuous values for label, and multiclass values for target\n",
      "  warnings.warn(msg, UserWarning)\n",
      "/home/samer/miniconda3/envs/pysdgdev/lib/python3.10/site-packages/sklearn/metrics/cluster/_supervised.py:66: UserWarning: Clustering metrics expects discrete values but received continuous values for label, and multiclass values for target\n",
      "  warnings.warn(msg, UserWarning)\n",
      "/home/samer/miniconda3/envs/pysdgdev/lib/python3.10/site-packages/sklearn/metrics/cluster/_supervised.py:66: UserWarning: Clustering metrics expects discrete values but received continuous values for label, and multiclass values for target\n",
      "  warnings.warn(msg, UserWarning)\n",
      "/home/samer/miniconda3/envs/pysdgdev/lib/python3.10/site-packages/sklearn/metrics/cluster/_supervised.py:66: UserWarning: Clustering metrics expects discrete values but received continuous values for label, and multiclass values for target\n",
      "  warnings.warn(msg, UserWarning)\n",
      "/home/samer/miniconda3/envs/pysdgdev/lib/python3.10/site-packages/sklearn/metrics/cluster/_supervised.py:66: UserWarning: Clustering metrics expects discrete values but received continuous values for label, and binary values for target\n",
      "  warnings.warn(msg, UserWarning)\n",
      "/home/samer/miniconda3/envs/pysdgdev/lib/python3.10/site-packages/sklearn/metrics/cluster/_supervised.py:66: UserWarning: Clustering metrics expects discrete values but received continuous values for label, and binary values for target\n",
      "  warnings.warn(msg, UserWarning)\n",
      "/home/samer/miniconda3/envs/pysdgdev/lib/python3.10/site-packages/sklearn/metrics/cluster/_supervised.py:66: UserWarning: Clustering metrics expects discrete values but received continuous values for label, and binary values for target\n",
      "  warnings.warn(msg, UserWarning)\n",
      "/home/samer/miniconda3/envs/pysdgdev/lib/python3.10/site-packages/sklearn/metrics/cluster/_supervised.py:66: UserWarning: Clustering metrics expects discrete values but received continuous values for label, and continuous values for target\n",
      "  warnings.warn(msg, UserWarning)\n",
      "/home/samer/miniconda3/envs/pysdgdev/lib/python3.10/site-packages/sklearn/metrics/cluster/_supervised.py:66: UserWarning: Clustering metrics expects discrete values but received continuous values for label, and multiclass values for target\n",
      "  warnings.warn(msg, UserWarning)\n",
      "/home/samer/miniconda3/envs/pysdgdev/lib/python3.10/site-packages/sklearn/metrics/cluster/_supervised.py:66: UserWarning: Clustering metrics expects discrete values but received continuous values for label, and multiclass values for target\n",
      "  warnings.warn(msg, UserWarning)\n",
      "/home/samer/miniconda3/envs/pysdgdev/lib/python3.10/site-packages/sklearn/metrics/cluster/_supervised.py:66: UserWarning: Clustering metrics expects discrete values but received continuous values for label, and multiclass values for target\n",
      "  warnings.warn(msg, UserWarning)\n",
      "/home/samer/miniconda3/envs/pysdgdev/lib/python3.10/site-packages/sklearn/metrics/cluster/_supervised.py:66: UserWarning: Clustering metrics expects discrete values but received continuous values for label, and multiclass values for target\n",
      "  warnings.warn(msg, UserWarning)\n",
      "2025-05-12 15:25:00,425 - pysdg - INFO - 1440 - generate.py:930 - Completed training using synthcity_bayesian_network.\n",
      "INFO:pysdg:Completed training using synthcity_bayesian_network.\n"
     ]
    }
   ],
   "source": [
    "gen.train()"
   ]
  },
  {
   "cell_type": "markdown",
   "metadata": {},
   "source": [
    "### Generate Synthetic Data\n",
    "\n",
    "Generate the desired number of synthetic datasets (num_synths), each containing the specified number of rows (num_rows)."
   ]
  },
  {
   "cell_type": "code",
   "execution_count": 9,
   "metadata": {},
   "outputs": [
    {
     "name": "stderr",
     "output_type": "stream",
     "text": [
      "2025-05-12 15:25:05,123 - pysdg - INFO - 1440 - generate.py:981 - Generating synth no. 0 of size (10000, 12) -- Completed!\n",
      "INFO:pysdg:Generating synth no. 0 of size (10000, 12) -- Completed!\n",
      "2025-05-12 15:25:05,767 - pysdg - INFO - 1440 - generate.py:981 - Generating synth no. 1 of size (10000, 12) -- Completed!\n",
      "INFO:pysdg:Generating synth no. 1 of size (10000, 12) -- Completed!\n"
     ]
    }
   ],
   "source": [
    "gen.gen(num_rows=len(real), num_synths=2)"
   ]
  },
  {
   "cell_type": "markdown",
   "metadata": {},
   "source": [
    "### Decode the Synthetic Datasets\n"
   ]
  },
  {
   "cell_type": "code",
   "execution_count": 10,
   "metadata": {},
   "outputs": [
    {
     "data": {
      "application/vnd.microsoft.datawrangler.viewer.v0+json": {
       "columns": [
        {
         "name": "index",
         "rawType": "int64",
         "type": "integer"
        },
        {
         "name": "outc_cod_0",
         "rawType": "category",
         "type": "unknown"
        },
        {
         "name": "event_dt",
         "rawType": "datetime64[ns]",
         "type": "datetime"
        },
        {
         "name": "wt",
         "rawType": "float64",
         "type": "float"
        },
        {
         "name": "wt_cod",
         "rawType": "category",
         "type": "unknown"
        },
        {
         "name": "age",
         "rawType": "Int64",
         "type": "integer"
        },
        {
         "name": "age_cod",
         "rawType": "category",
         "type": "unknown"
        },
        {
         "name": "drugname_0",
         "rawType": "category",
         "type": "unknown"
        },
        {
         "name": "indi_pt_0",
         "rawType": "category",
         "type": "unknown"
        },
        {
         "name": "sex",
         "rawType": "category",
         "type": "unknown"
        }
       ],
       "conversionMethod": "pd.DataFrame",
       "ref": "11a32863-92cf-4207-b6ab-727c9f19d3ca",
       "rows": [
        [
         "0",
         null,
         null,
         null,
         null,
         null,
         null,
         "VARGATEF",
         null,
         null
        ],
        [
         "1",
         null,
         null,
         null,
         null,
         null,
         null,
         "ZESTRIL",
         null,
         null
        ],
        [
         "2",
         null,
         null,
         null,
         null,
         null,
         null,
         "CASIRIVIMAB\\IMDEVIMAB",
         "Neutrophil function disorder",
         "M"
        ],
        [
         "3",
         null,
         null,
         null,
         null,
         null,
         null,
         "XTAMPZA ER",
         null,
         null
        ],
        [
         "4",
         null,
         null,
         null,
         null,
         null,
         null,
         "BRIGATINIB",
         "Product used for unknown indication",
         null
        ],
        [
         "5",
         "OT",
         null,
         null,
         null,
         null,
         null,
         "UPADACITINIB",
         null,
         null
        ],
        [
         "6",
         null,
         "2019-06-13 00:00:00",
         "29.770553433524682",
         "KG",
         "13",
         "MON",
         "Dolutegravir",
         "Myelodysplastic syndrome",
         "M"
        ],
        [
         "7",
         null,
         "2013-06-13 00:00:00",
         null,
         null,
         null,
         null,
         "GAMMAPLEX",
         "Metastases to bone",
         "F"
        ],
        [
         "8",
         null,
         null,
         null,
         null,
         null,
         null,
         "DURVALUMAB",
         "Prostatomegaly",
         "F"
        ],
        [
         "9",
         null,
         null,
         null,
         null,
         null,
         null,
         "ORILISSA",
         null,
         null
        ]
       ],
       "shape": {
        "columns": 9,
        "rows": 10
       }
      },
      "text/html": [
       "<div>\n",
       "<style scoped>\n",
       "    .dataframe tbody tr th:only-of-type {\n",
       "        vertical-align: middle;\n",
       "    }\n",
       "\n",
       "    .dataframe tbody tr th {\n",
       "        vertical-align: top;\n",
       "    }\n",
       "\n",
       "    .dataframe thead th {\n",
       "        text-align: right;\n",
       "    }\n",
       "</style>\n",
       "<table border=\"1\" class=\"dataframe\">\n",
       "  <thead>\n",
       "    <tr style=\"text-align: right;\">\n",
       "      <th></th>\n",
       "      <th>outc_cod_0</th>\n",
       "      <th>event_dt</th>\n",
       "      <th>wt</th>\n",
       "      <th>wt_cod</th>\n",
       "      <th>age</th>\n",
       "      <th>age_cod</th>\n",
       "      <th>drugname_0</th>\n",
       "      <th>indi_pt_0</th>\n",
       "      <th>sex</th>\n",
       "    </tr>\n",
       "  </thead>\n",
       "  <tbody>\n",
       "    <tr>\n",
       "      <th>0</th>\n",
       "      <td>NaN</td>\n",
       "      <td>NaT</td>\n",
       "      <td>NaN</td>\n",
       "      <td>NaN</td>\n",
       "      <td>&lt;NA&gt;</td>\n",
       "      <td>NaN</td>\n",
       "      <td>VARGATEF</td>\n",
       "      <td>NaN</td>\n",
       "      <td>NaN</td>\n",
       "    </tr>\n",
       "    <tr>\n",
       "      <th>1</th>\n",
       "      <td>NaN</td>\n",
       "      <td>NaT</td>\n",
       "      <td>NaN</td>\n",
       "      <td>NaN</td>\n",
       "      <td>&lt;NA&gt;</td>\n",
       "      <td>NaN</td>\n",
       "      <td>ZESTRIL</td>\n",
       "      <td>NaN</td>\n",
       "      <td>NaN</td>\n",
       "    </tr>\n",
       "    <tr>\n",
       "      <th>2</th>\n",
       "      <td>NaN</td>\n",
       "      <td>NaT</td>\n",
       "      <td>NaN</td>\n",
       "      <td>NaN</td>\n",
       "      <td>&lt;NA&gt;</td>\n",
       "      <td>NaN</td>\n",
       "      <td>CASIRIVIMAB\\IMDEVIMAB</td>\n",
       "      <td>Neutrophil function disorder</td>\n",
       "      <td>M</td>\n",
       "    </tr>\n",
       "    <tr>\n",
       "      <th>3</th>\n",
       "      <td>NaN</td>\n",
       "      <td>NaT</td>\n",
       "      <td>NaN</td>\n",
       "      <td>NaN</td>\n",
       "      <td>&lt;NA&gt;</td>\n",
       "      <td>NaN</td>\n",
       "      <td>XTAMPZA ER</td>\n",
       "      <td>NaN</td>\n",
       "      <td>NaN</td>\n",
       "    </tr>\n",
       "    <tr>\n",
       "      <th>4</th>\n",
       "      <td>NaN</td>\n",
       "      <td>NaT</td>\n",
       "      <td>NaN</td>\n",
       "      <td>NaN</td>\n",
       "      <td>&lt;NA&gt;</td>\n",
       "      <td>NaN</td>\n",
       "      <td>BRIGATINIB</td>\n",
       "      <td>Product used for unknown indication</td>\n",
       "      <td>NaN</td>\n",
       "    </tr>\n",
       "    <tr>\n",
       "      <th>5</th>\n",
       "      <td>OT</td>\n",
       "      <td>NaT</td>\n",
       "      <td>NaN</td>\n",
       "      <td>NaN</td>\n",
       "      <td>&lt;NA&gt;</td>\n",
       "      <td>NaN</td>\n",
       "      <td>UPADACITINIB</td>\n",
       "      <td>NaN</td>\n",
       "      <td>NaN</td>\n",
       "    </tr>\n",
       "    <tr>\n",
       "      <th>6</th>\n",
       "      <td>NaN</td>\n",
       "      <td>2019-06-13</td>\n",
       "      <td>29.770553</td>\n",
       "      <td>KG</td>\n",
       "      <td>13</td>\n",
       "      <td>MON</td>\n",
       "      <td>Dolutegravir</td>\n",
       "      <td>Myelodysplastic syndrome</td>\n",
       "      <td>M</td>\n",
       "    </tr>\n",
       "    <tr>\n",
       "      <th>7</th>\n",
       "      <td>NaN</td>\n",
       "      <td>2013-06-13</td>\n",
       "      <td>NaN</td>\n",
       "      <td>NaN</td>\n",
       "      <td>&lt;NA&gt;</td>\n",
       "      <td>NaN</td>\n",
       "      <td>GAMMAPLEX</td>\n",
       "      <td>Metastases to bone</td>\n",
       "      <td>F</td>\n",
       "    </tr>\n",
       "    <tr>\n",
       "      <th>8</th>\n",
       "      <td>NaN</td>\n",
       "      <td>NaT</td>\n",
       "      <td>NaN</td>\n",
       "      <td>NaN</td>\n",
       "      <td>&lt;NA&gt;</td>\n",
       "      <td>NaN</td>\n",
       "      <td>DURVALUMAB</td>\n",
       "      <td>Prostatomegaly</td>\n",
       "      <td>F</td>\n",
       "    </tr>\n",
       "    <tr>\n",
       "      <th>9</th>\n",
       "      <td>NaN</td>\n",
       "      <td>NaT</td>\n",
       "      <td>NaN</td>\n",
       "      <td>NaN</td>\n",
       "      <td>&lt;NA&gt;</td>\n",
       "      <td>NaN</td>\n",
       "      <td>ORILISSA</td>\n",
       "      <td>NaN</td>\n",
       "      <td>NaN</td>\n",
       "    </tr>\n",
       "  </tbody>\n",
       "</table>\n",
       "</div>"
      ],
      "text/plain": [
       "  outc_cod_0   event_dt         wt wt_cod   age age_cod  \\\n",
       "0        NaN        NaT        NaN    NaN  <NA>     NaN   \n",
       "1        NaN        NaT        NaN    NaN  <NA>     NaN   \n",
       "2        NaN        NaT        NaN    NaN  <NA>     NaN   \n",
       "3        NaN        NaT        NaN    NaN  <NA>     NaN   \n",
       "4        NaN        NaT        NaN    NaN  <NA>     NaN   \n",
       "5         OT        NaT        NaN    NaN  <NA>     NaN   \n",
       "6        NaN 2019-06-13  29.770553     KG    13     MON   \n",
       "7        NaN 2013-06-13        NaN    NaN  <NA>     NaN   \n",
       "8        NaN        NaT        NaN    NaN  <NA>     NaN   \n",
       "9        NaN        NaT        NaN    NaN  <NA>     NaN   \n",
       "\n",
       "              drugname_0                            indi_pt_0  sex  \n",
       "0               VARGATEF                                  NaN  NaN  \n",
       "1                ZESTRIL                                  NaN  NaN  \n",
       "2  CASIRIVIMAB\\IMDEVIMAB         Neutrophil function disorder    M  \n",
       "3             XTAMPZA ER                                  NaN  NaN  \n",
       "4             BRIGATINIB  Product used for unknown indication  NaN  \n",
       "5           UPADACITINIB                                  NaN  NaN  \n",
       "6           Dolutegravir             Myelodysplastic syndrome    M  \n",
       "7              GAMMAPLEX                   Metastases to bone    F  \n",
       "8             DURVALUMAB                       Prostatomegaly    F  \n",
       "9               ORILISSA                                  NaN  NaN  "
      ]
     },
     "execution_count": 10,
     "metadata": {},
     "output_type": "execute_result"
    }
   ],
   "source": [
    "synths=gen.unload()\n",
    "synths[0].head(10)\n"
   ]
  }
 ],
 "metadata": {
  "kernelspec": {
   "display_name": "pysdgdev",
   "language": "python",
   "name": "python3"
  },
  "language_info": {
   "codemirror_mode": {
    "name": "ipython",
    "version": 3
   },
   "file_extension": ".py",
   "mimetype": "text/x-python",
   "name": "python",
   "nbconvert_exporter": "python",
   "pygments_lexer": "ipython3",
   "version": "3.10.14"
  }
 },
 "nbformat": 4,
 "nbformat_minor": 4
}
