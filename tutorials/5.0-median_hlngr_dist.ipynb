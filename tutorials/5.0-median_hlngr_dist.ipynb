{
 "cells": [
  {
   "cell_type": "code",
   "execution_count": 1,
   "metadata": {},
   "outputs": [
    {
     "name": "stdout",
     "output_type": "stream",
     "text": [
      "[KeOps] Warning : Cuda libraries were not detected on the system or could not be loaded ; using cpu only mode\n"
     ]
    }
   ],
   "source": [
    "# Import necessary modules\n",
    "from pysdg.synth.generate import Generator  \n",
    "from pysdg.synth.metrics import calc_univariate_hlngr  "
   ]
  },
  {
   "cell_type": "code",
   "execution_count": 2,
   "metadata": {},
   "outputs": [],
   "source": [
    "# Define your paths to the raw data and raw info files.\n",
    "raw_data_path='raw_data.csv'\n",
    "raw_info_path='raw_info.json'"
   ]
  },
  {
   "cell_type": "code",
   "execution_count": 3,
   "metadata": {},
   "outputs": [
    {
     "name": "stderr",
     "output_type": "stream",
     "text": [
      "2025-01-17 16:12:06,241 - pysdg - INFO - 318457 - generate.py:89 - **************Started logging the generator: synthcity_bayesian_network, num_cores= None.**************\n"
     ]
    },
    {
     "name": "stderr",
     "output_type": "stream",
     "text": [
      "2025-01-17 16:12:06,301 - pysdg - INFO - 318457 - generate.py:186 - Checking the input metadata for any conflict in variable indexes - Passed.\n",
      "2025-01-17 16:12:07,637 - pysdg - INFO - 318457 - generate.py:254 - The dataset ['tutorial_data'] is loaded into the generator synthcity_bayesian_network\n",
      "[2025-01-17T16:12:21.046004-0500][318457][CRITICAL] module disabled: /share/personal/skababji/conda_envs/pysdg_dev/lib/python3.10/site-packages/synthcity/plugins/generic/plugin_goggle.py\n",
      "2025-01-17 16:12:48,080 - pysdg - INFO - 318457 - generate.py:636 - Started training using synthcity_bayesian_network...\n",
      "INFO:pysdg:Started training using synthcity_bayesian_network...\n",
      "2025-01-17 16:13:28,069 - pysdg - INFO - 318457 - generate.py:641 - Completed training using synthcity_bayesian_network.\n",
      "INFO:pysdg:Completed training using synthcity_bayesian_network.\n"
     ]
    }
   ],
   "source": [
    "# Load and train.\n",
    "gen=Generator(\"synthcity_bayesian_network\")\n",
    "real=gen.load(raw_data_path, raw_info_path)\n",
    "gen.train()"
   ]
  },
  {
   "cell_type": "code",
   "execution_count": 4,
   "metadata": {},
   "outputs": [
    {
     "name": "stderr",
     "output_type": "stream",
     "text": [
      "2025-01-17 16:13:29,945 - pysdg - INFO - 318457 - generate.py:689 - Generating synth no. 0 of size (10000, 12) -- Completed!\n",
      "INFO:pysdg:Generating synth no. 0 of size (10000, 12) -- Completed!\n",
      "2025-01-17 16:13:31,726 - pysdg - INFO - 318457 - generate.py:689 - Generating synth no. 1 of size (10000, 12) -- Completed!\n",
      "INFO:pysdg:Generating synth no. 1 of size (10000, 12) -- Completed!\n"
     ]
    }
   ],
   "source": [
    "# Generate and unload\n",
    "gen.gen(num_rows=len(real), num_synths=2)\n"
   ]
  },
  {
   "cell_type": "code",
   "execution_count": 5,
   "metadata": {},
   "outputs": [],
   "source": [
    "# Extract encoded versions and drop columns with '_missing' in the name.\n",
    "pp_real = gen.enc_real.loc[:, ~gen.enc_real.columns.str.contains('_missing')]\n",
    "pp_synth1 = gen.enc_synths[0].loc[:, ~gen.enc_real.columns.str.contains('_missing')]\n",
    "pp_synth2 = gen.enc_synths[1].loc[:, ~gen.enc_real.columns.str.contains('_missing')]"
   ]
  },
  {
   "cell_type": "code",
   "execution_count": 6,
   "metadata": {},
   "outputs": [
    {
     "data": {
      "text/plain": [
       "0.015668162134330452"
      ]
     },
     "execution_count": 6,
     "metadata": {},
     "output_type": "execute_result"
    }
   ],
   "source": [
    "# Check median Hellinger distance between the real and the first version of the synthetic data.\n",
    "calc_univariate_hlngr(pp_real,pp_synth1)['hlngr_median']"
   ]
  },
  {
   "cell_type": "code",
   "execution_count": 7,
   "metadata": {},
   "outputs": [
    {
     "data": {
      "text/plain": [
       "0.014380842040861149"
      ]
     },
     "execution_count": 7,
     "metadata": {},
     "output_type": "execute_result"
    }
   ],
   "source": [
    "# Check median Hellinger distance between the real and the second version of the synthetic data.\n",
    "calc_univariate_hlngr(pp_real,pp_synth2)['hlngr_median']"
   ]
  }
 ],
 "metadata": {
  "kernelspec": {
   "display_name": "pysdg_dev",
   "language": "python",
   "name": "python3"
  },
  "language_info": {
   "codemirror_mode": {
    "name": "ipython",
    "version": 3
   },
   "file_extension": ".py",
   "mimetype": "text/x-python",
   "name": "python",
   "nbconvert_exporter": "python",
   "pygments_lexer": "ipython3",
   "version": "3.10.14"
  }
 },
 "nbformat": 4,
 "nbformat_minor": 2
}
