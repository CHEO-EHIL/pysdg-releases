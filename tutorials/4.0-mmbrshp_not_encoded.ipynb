{
 "cells": [
  {
   "cell_type": "code",
   "execution_count": 5,
   "metadata": {},
   "outputs": [],
   "source": [
    "import pandas as pd\n",
    "from pysdg.privacy.mmbrshp import calc_mmbrshp_risk"
   ]
  },
  {
   "cell_type": "code",
   "execution_count": 6,
   "metadata": {},
   "outputs": [],
   "source": [
    "# Read the training, holdout and synthetic datasets\n",
    "train_data = pd.read_csv('raw_train.csv')\n",
    "holdout_data = pd.read_csv('raw_holdout.csv')\n",
    "synth_data = pd.read_csv('synth.csv')"
   ]
  },
  {
   "cell_type": "code",
   "execution_count": 7,
   "metadata": {},
   "outputs": [
    {
     "name": "stderr",
     "output_type": "stream",
     "text": [
      "2025-02-04 19:15:52,207 - pysdg - INFO - 1221783 - generate.py:88 - **************Started logging the generator: dummy, num_cores= None.**************\n",
      "2025-02-04 19:15:52,237 - pysdg - INFO - 1221783 - generate.py:209 - Checking the input metadata for any conflict in variable indexes - Passed.\n",
      "2025-02-04 19:15:57,257 - pysdg - INFO - 1221783 - generate.py:277 - The dataset ['tutorial_data'] is loaded into the generator dummy\n",
      "2025-02-04 19:15:57,263 - pysdg - INFO - 1221783 - generate.py:88 - **************Started logging the generator: dummy, num_cores= None.**************\n",
      "2025-02-04 19:15:57,285 - pysdg - INFO - 1221783 - generate.py:209 - Checking the input metadata for any conflict in variable indexes - Passed.\n",
      "2025-02-04 19:16:00,346 - pysdg - INFO - 1221783 - generate.py:277 - The dataset ['tutorial_data'] is loaded into the generator dummy\n",
      "2025-02-04 19:16:00,353 - pysdg - INFO - 1221783 - generate.py:88 - **************Started logging the generator: dummy, num_cores= None.**************\n",
      "2025-02-04 19:16:00,368 - pysdg - INFO - 1221783 - generate.py:209 - Checking the input metadata for any conflict in variable indexes - Passed.\n",
      "2025-02-04 19:16:02,928 - pysdg - INFO - 1221783 - generate.py:277 - The dataset ['tutorial_data'] is loaded into the generator dummy\n"
     ]
    },
    {
     "name": "stdout",
     "output_type": "stream",
     "text": [
      "Calculating membership disclosure risk\n",
      "Base F1 score = 0.17095777548918636\n",
      "Relative F1 score = -0.013273829957661118\n",
      "Naive F1 score = 0.18181818181818182\n"
     ]
    }
   ],
   "source": [
    "# Calculate the membership risk with default settings of quasi-identifiers (all variable names will be considered by default).\n",
    "res=calc_mmbrshp_risk(synth_data, train_data, holdout_data, population_size=10*len(train_data), attack_size=int(0.2*len(train_data)), hamming_threshold=3, raw_info=\"raw_info.json\")\n",
    "print(f\"Base F1 score = {res['f1']}\")\n",
    "print(f\"Relative F1 score = {res['f_rel']}\")\n",
    "print(f\"Naive F1 score = {res['f_naive']}\")\n"
   ]
  }
 ],
 "metadata": {
  "kernelspec": {
   "display_name": "pysdg_dev",
   "language": "python",
   "name": "python3"
  },
  "language_info": {
   "codemirror_mode": {
    "name": "ipython",
    "version": 3
   },
   "file_extension": ".py",
   "mimetype": "text/x-python",
   "name": "python",
   "nbconvert_exporter": "python",
   "pygments_lexer": "ipython3",
   "version": "3.10.14"
  }
 },
 "nbformat": 4,
 "nbformat_minor": 2
}
