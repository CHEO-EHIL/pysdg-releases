{
 "cells": [
  {
   "cell_type": "code",
   "execution_count": 7,
   "id": "7a398e0c",
   "metadata": {},
   "outputs": [],
   "source": [
    "from pysdg.gen import Generator  "
   ]
  },
  {
   "cell_type": "markdown",
   "id": "8acb579e",
   "metadata": {},
   "source": [
    "# Train and save model"
   ]
  },
  {
   "cell_type": "code",
   "execution_count": 8,
   "id": "b04a9f7e",
   "metadata": {},
   "outputs": [
    {
     "name": "stderr",
     "output_type": "stream",
     "text": [
      "2025-05-30 13:41:03,608 - pysdg - INFO - 104798 - generate.py:132 - **************Started logging the generator: yandex/tabddpm, num_cores= None.**************\n"
     ]
    }
   ],
   "source": [
    "gen4train = Generator(\"yandex/tabddpm\", save_model=True,  work_dir=\"yandex_test\")"
   ]
  },
  {
   "cell_type": "code",
   "execution_count": 9,
   "id": "c721088a",
   "metadata": {},
   "outputs": [
    {
     "name": "stderr",
     "output_type": "stream",
     "text": [
      "2025-05-30 13:41:03,631 - pysdg - INFO - 104798 - generate.py:362 - Checking the input metadata for any conflict in variable indexes - Passed.\n"
     ]
    },
    {
     "name": "stderr",
     "output_type": "stream",
     "text": [
      "2025-05-30 13:41:04,359 - pysdg - INFO - 104798 - generate.py:476 - The dataset ['tutorial_data'] is loaded into the generator yandex_tabddpm\n"
     ]
    },
    {
     "data": {
      "application/vnd.microsoft.datawrangler.viewer.v0+json": {
       "columns": [
        {
         "name": "index",
         "rawType": "int64",
         "type": "integer"
        },
        {
         "name": "outc_cod_0",
         "rawType": "category",
         "type": "unknown"
        },
        {
         "name": "event_dt",
         "rawType": "datetime64[ns]",
         "type": "datetime"
        },
        {
         "name": "wt",
         "rawType": "float64",
         "type": "float"
        },
        {
         "name": "wt_cod",
         "rawType": "category",
         "type": "unknown"
        },
        {
         "name": "age",
         "rawType": "Int64",
         "type": "integer"
        },
        {
         "name": "age_cod",
         "rawType": "category",
         "type": "unknown"
        },
        {
         "name": "drugname_0",
         "rawType": "category",
         "type": "unknown"
        },
        {
         "name": "indi_pt_0",
         "rawType": "category",
         "type": "unknown"
        },
        {
         "name": "sex",
         "rawType": "category",
         "type": "unknown"
        }
       ],
       "ref": "b9457328-983f-41d9-996f-7ee6261a0e8c",
       "rows": [
        [
         "0",
         null,
         null,
         null,
         null,
         null,
         null,
         "ZANTAC",
         null,
         null
        ],
        [
         "1",
         "DE",
         null,
         null,
         null,
         "18",
         "YR",
         "OXYCONTIN",
         "Drug abuse",
         "M"
        ],
        [
         "2",
         "OT",
         null,
         null,
         null,
         null,
         null,
         "LEMTRADA",
         null,
         null
        ],
        [
         "3",
         "OT",
         "2019-09-17 00:00:00",
         null,
         null,
         "46",
         "YR",
         "COSENTYX",
         "Psoriatic arthropathy",
         "M"
        ],
        [
         "4",
         "DE",
         "2016-12-01 00:00:00",
         "110.0",
         "KG",
         "73",
         "YR",
         "ENTRESTO",
         "Cardiac failure",
         "M"
        ],
        [
         "5",
         "OT",
         null,
         "95.0",
         "KG",
         "33",
         "YR",
         "Champix",
         "Smoking cessation therapy",
         "M"
        ],
        [
         "6",
         null,
         null,
         null,
         null,
         null,
         null,
         "CEFTRIAXONE SODIUM",
         null,
         null
        ],
        [
         "7",
         null,
         null,
         "86.0",
         "KG",
         "74",
         "YR",
         "LYRICA",
         "Nerve injury",
         "F"
        ],
        [
         "8",
         null,
         null,
         null,
         null,
         null,
         null,
         "XELJANZ",
         null,
         null
        ],
        [
         "9",
         null,
         "2019-09-07 00:00:00",
         null,
         null,
         "57",
         "YR",
         "COSENTYX",
         "Ankylosing spondylitis",
         "M"
        ],
        [
         "10",
         null,
         null,
         null,
         null,
         null,
         null,
         "ENTRESTO",
         null,
         null
        ],
        [
         "11",
         null,
         "2019-04-26 00:00:00",
         "78.5",
         "KG",
         "56",
         "YR",
         "ORBACTIV",
         "Product used for unknown indication",
         "F"
        ],
        [
         "12",
         null,
         null,
         null,
         null,
         null,
         null,
         "INFLECTRA",
         null,
         null
        ],
        [
         "13",
         null,
         "2019-08-19 00:00:00",
         null,
         null,
         "69",
         "YR",
         "INLYTA",
         null,
         "M"
        ],
        [
         "14",
         null,
         null,
         null,
         null,
         null,
         null,
         "ARIMIDEX",
         null,
         null
        ],
        [
         "15",
         null,
         null,
         null,
         null,
         null,
         null,
         "OXYCONTIN",
         null,
         null
        ],
        [
         "16",
         "DE",
         null,
         null,
         null,
         null,
         null,
         "NEVIRAPINE.",
         null,
         null
        ],
        [
         "17",
         null,
         "2019-10-30 00:00:00",
         null,
         null,
         "30",
         "YR",
         "SUBLOCADE",
         "Drug dependence",
         "F"
        ],
        [
         "18",
         null,
         null,
         null,
         null,
         null,
         null,
         "DUPIXENT",
         null,
         null
        ],
        [
         "19",
         null,
         null,
         null,
         null,
         null,
         null,
         "OTEZLA",
         "Psoriatic arthropathy",
         "F"
        ],
        [
         "20",
         null,
         null,
         null,
         null,
         null,
         null,
         "FLURBIPROFEN",
         null,
         null
        ],
        [
         "21",
         null,
         null,
         null,
         null,
         null,
         null,
         "HUMIRA",
         null,
         null
        ],
        [
         "22",
         null,
         null,
         null,
         null,
         null,
         null,
         "ADCIRCA",
         null,
         null
        ],
        [
         "23",
         "OT",
         null,
         null,
         null,
         "19",
         "YR",
         "COSENTYX",
         "Psoriatic arthropathy",
         "F"
        ],
        [
         "24",
         null,
         "2019-01-01 00:00:00",
         null,
         null,
         null,
         null,
         "EPIDIOLEX",
         "Lennox-Gastaut syndrome",
         null
        ],
        [
         "25",
         "OT",
         null,
         null,
         null,
         "52",
         "YR",
         "Niraparib",
         "Ovarian cancer",
         "F"
        ],
        [
         "26",
         "OT",
         null,
         "60.0",
         "KG",
         "32",
         "YR",
         "ACICLOVIR",
         "Neuralgia",
         "F"
        ],
        [
         "27",
         "DE",
         null,
         null,
         null,
         null,
         null,
         "APIXABAN",
         "Product used for unknown indication",
         "M"
        ],
        [
         "28",
         null,
         null,
         null,
         null,
         null,
         null,
         "HYDROXYCHLOROQUINE",
         null,
         null
        ],
        [
         "29",
         null,
         "2019-10-10 00:00:00",
         null,
         null,
         "60",
         "YR",
         "STELARA",
         null,
         "M"
        ],
        [
         "30",
         null,
         null,
         null,
         null,
         null,
         null,
         "AVASTIN",
         null,
         null
        ],
        [
         "31",
         "HO",
         null,
         "61.0",
         "KG",
         "73",
         "YR",
         "ATORVASTATIN CALCIUM.",
         "Cardiovascular event prophylaxis",
         "M"
        ],
        [
         "32",
         null,
         null,
         null,
         null,
         null,
         null,
         "BREO ELLIPTA",
         "Product used for unknown indication",
         null
        ],
        [
         "33",
         null,
         null,
         null,
         null,
         null,
         null,
         "CASIRIVIMAB\\IMDEVIMAB",
         null,
         null
        ],
        [
         "34",
         null,
         null,
         null,
         null,
         null,
         null,
         "ELIQUIS",
         null,
         null
        ],
        [
         "35",
         null,
         null,
         null,
         null,
         null,
         null,
         "OZEMPIC",
         null,
         null
        ],
        [
         "36",
         null,
         null,
         null,
         null,
         null,
         null,
         "CABOMETYX",
         null,
         null
        ],
        [
         "37",
         null,
         null,
         null,
         null,
         null,
         null,
         "STELARA",
         null,
         null
        ],
        [
         "38",
         null,
         null,
         null,
         null,
         null,
         null,
         "XYREM",
         null,
         null
        ],
        [
         "39",
         null,
         null,
         null,
         null,
         null,
         null,
         "HUMIRA",
         null,
         null
        ],
        [
         "40",
         null,
         null,
         null,
         null,
         null,
         null,
         "HUMIRA",
         null,
         null
        ],
        [
         "41",
         null,
         null,
         null,
         null,
         null,
         null,
         "CLOZAPINE",
         null,
         null
        ],
        [
         "42",
         "OT",
         "2018-12-05 00:00:00",
         "64.8499984741211",
         "KG",
         "52",
         "YR",
         "GILENYA",
         "Multiple sclerosis",
         "F"
        ],
        [
         "43",
         null,
         null,
         null,
         null,
         null,
         null,
         "VENCLEXTA",
         null,
         null
        ],
        [
         "44",
         null,
         null,
         null,
         null,
         "79",
         "YR",
         "LONHALA MAGNAIR",
         null,
         "F"
        ],
        [
         "45",
         null,
         null,
         null,
         null,
         null,
         null,
         "PALIPERIDONE PALMITATE",
         null,
         null
        ],
        [
         "46",
         null,
         null,
         null,
         null,
         null,
         null,
         "SAXENDA",
         null,
         null
        ],
        [
         "47",
         null,
         null,
         "74.91000366210938",
         "KG",
         "64",
         "YR",
         "XARELTO",
         "Pulmonary thrombosis",
         "F"
        ],
        [
         "48",
         null,
         null,
         null,
         null,
         null,
         null,
         "ZANTAC",
         null,
         null
        ],
        [
         "49",
         null,
         null,
         null,
         null,
         null,
         null,
         "XELJANZ",
         null,
         null
        ]
       ],
       "shape": {
        "columns": 9,
        "rows": 10000
       }
      },
      "text/html": [
       "<div>\n",
       "<style scoped>\n",
       "    .dataframe tbody tr th:only-of-type {\n",
       "        vertical-align: middle;\n",
       "    }\n",
       "\n",
       "    .dataframe tbody tr th {\n",
       "        vertical-align: top;\n",
       "    }\n",
       "\n",
       "    .dataframe thead th {\n",
       "        text-align: right;\n",
       "    }\n",
       "</style>\n",
       "<table border=\"1\" class=\"dataframe\">\n",
       "  <thead>\n",
       "    <tr style=\"text-align: right;\">\n",
       "      <th></th>\n",
       "      <th>outc_cod_0</th>\n",
       "      <th>event_dt</th>\n",
       "      <th>wt</th>\n",
       "      <th>wt_cod</th>\n",
       "      <th>age</th>\n",
       "      <th>age_cod</th>\n",
       "      <th>drugname_0</th>\n",
       "      <th>indi_pt_0</th>\n",
       "      <th>sex</th>\n",
       "    </tr>\n",
       "  </thead>\n",
       "  <tbody>\n",
       "    <tr>\n",
       "      <th>0</th>\n",
       "      <td>NaN</td>\n",
       "      <td>NaT</td>\n",
       "      <td>NaN</td>\n",
       "      <td>NaN</td>\n",
       "      <td>&lt;NA&gt;</td>\n",
       "      <td>NaN</td>\n",
       "      <td>ZANTAC</td>\n",
       "      <td>NaN</td>\n",
       "      <td>NaN</td>\n",
       "    </tr>\n",
       "    <tr>\n",
       "      <th>1</th>\n",
       "      <td>DE</td>\n",
       "      <td>NaT</td>\n",
       "      <td>NaN</td>\n",
       "      <td>NaN</td>\n",
       "      <td>18</td>\n",
       "      <td>YR</td>\n",
       "      <td>OXYCONTIN</td>\n",
       "      <td>Drug abuse</td>\n",
       "      <td>M</td>\n",
       "    </tr>\n",
       "    <tr>\n",
       "      <th>2</th>\n",
       "      <td>OT</td>\n",
       "      <td>NaT</td>\n",
       "      <td>NaN</td>\n",
       "      <td>NaN</td>\n",
       "      <td>&lt;NA&gt;</td>\n",
       "      <td>NaN</td>\n",
       "      <td>LEMTRADA</td>\n",
       "      <td>NaN</td>\n",
       "      <td>NaN</td>\n",
       "    </tr>\n",
       "    <tr>\n",
       "      <th>3</th>\n",
       "      <td>OT</td>\n",
       "      <td>2019-09-17</td>\n",
       "      <td>NaN</td>\n",
       "      <td>NaN</td>\n",
       "      <td>46</td>\n",
       "      <td>YR</td>\n",
       "      <td>COSENTYX</td>\n",
       "      <td>Psoriatic arthropathy</td>\n",
       "      <td>M</td>\n",
       "    </tr>\n",
       "    <tr>\n",
       "      <th>4</th>\n",
       "      <td>DE</td>\n",
       "      <td>2016-12-01</td>\n",
       "      <td>110.0</td>\n",
       "      <td>KG</td>\n",
       "      <td>73</td>\n",
       "      <td>YR</td>\n",
       "      <td>ENTRESTO</td>\n",
       "      <td>Cardiac failure</td>\n",
       "      <td>M</td>\n",
       "    </tr>\n",
       "    <tr>\n",
       "      <th>...</th>\n",
       "      <td>...</td>\n",
       "      <td>...</td>\n",
       "      <td>...</td>\n",
       "      <td>...</td>\n",
       "      <td>...</td>\n",
       "      <td>...</td>\n",
       "      <td>...</td>\n",
       "      <td>...</td>\n",
       "      <td>...</td>\n",
       "    </tr>\n",
       "    <tr>\n",
       "      <th>9995</th>\n",
       "      <td>NaN</td>\n",
       "      <td>NaT</td>\n",
       "      <td>NaN</td>\n",
       "      <td>NaN</td>\n",
       "      <td>&lt;NA&gt;</td>\n",
       "      <td>NaN</td>\n",
       "      <td>ELIQUIS</td>\n",
       "      <td>Product used for unknown indication</td>\n",
       "      <td>NaN</td>\n",
       "    </tr>\n",
       "    <tr>\n",
       "      <th>9996</th>\n",
       "      <td>OT</td>\n",
       "      <td>NaT</td>\n",
       "      <td>NaN</td>\n",
       "      <td>NaN</td>\n",
       "      <td>26</td>\n",
       "      <td>YR</td>\n",
       "      <td>ISENTRESS</td>\n",
       "      <td>NaN</td>\n",
       "      <td>M</td>\n",
       "    </tr>\n",
       "    <tr>\n",
       "      <th>9997</th>\n",
       "      <td>NaN</td>\n",
       "      <td>NaT</td>\n",
       "      <td>NaN</td>\n",
       "      <td>NaN</td>\n",
       "      <td>&lt;NA&gt;</td>\n",
       "      <td>NaN</td>\n",
       "      <td>MYCOPHENOLATE MOFETIL</td>\n",
       "      <td>NaN</td>\n",
       "      <td>NaN</td>\n",
       "    </tr>\n",
       "    <tr>\n",
       "      <th>9998</th>\n",
       "      <td>NaN</td>\n",
       "      <td>NaT</td>\n",
       "      <td>NaN</td>\n",
       "      <td>NaN</td>\n",
       "      <td>&lt;NA&gt;</td>\n",
       "      <td>NaN</td>\n",
       "      <td>AZOPT</td>\n",
       "      <td>Product used for unknown indication</td>\n",
       "      <td>F</td>\n",
       "    </tr>\n",
       "    <tr>\n",
       "      <th>9999</th>\n",
       "      <td>NaN</td>\n",
       "      <td>NaT</td>\n",
       "      <td>NaN</td>\n",
       "      <td>NaN</td>\n",
       "      <td>&lt;NA&gt;</td>\n",
       "      <td>NaN</td>\n",
       "      <td>XOLAIR</td>\n",
       "      <td>NaN</td>\n",
       "      <td>NaN</td>\n",
       "    </tr>\n",
       "  </tbody>\n",
       "</table>\n",
       "<p>10000 rows × 9 columns</p>\n",
       "</div>"
      ],
      "text/plain": [
       "     outc_cod_0   event_dt     wt wt_cod   age age_cod             drugname_0  \\\n",
       "0           NaN        NaT    NaN    NaN  <NA>     NaN                 ZANTAC   \n",
       "1            DE        NaT    NaN    NaN    18      YR              OXYCONTIN   \n",
       "2            OT        NaT    NaN    NaN  <NA>     NaN               LEMTRADA   \n",
       "3            OT 2019-09-17    NaN    NaN    46      YR               COSENTYX   \n",
       "4            DE 2016-12-01  110.0     KG    73      YR               ENTRESTO   \n",
       "...         ...        ...    ...    ...   ...     ...                    ...   \n",
       "9995        NaN        NaT    NaN    NaN  <NA>     NaN                ELIQUIS   \n",
       "9996         OT        NaT    NaN    NaN    26      YR              ISENTRESS   \n",
       "9997        NaN        NaT    NaN    NaN  <NA>     NaN  MYCOPHENOLATE MOFETIL   \n",
       "9998        NaN        NaT    NaN    NaN  <NA>     NaN                  AZOPT   \n",
       "9999        NaN        NaT    NaN    NaN  <NA>     NaN                 XOLAIR   \n",
       "\n",
       "                                indi_pt_0  sex  \n",
       "0                                     NaN  NaN  \n",
       "1                              Drug abuse    M  \n",
       "2                                     NaN  NaN  \n",
       "3                   Psoriatic arthropathy    M  \n",
       "4                         Cardiac failure    M  \n",
       "...                                   ...  ...  \n",
       "9995  Product used for unknown indication  NaN  \n",
       "9996                                  NaN    M  \n",
       "9997                                  NaN  NaN  \n",
       "9998  Product used for unknown indication    F  \n",
       "9999                                  NaN  NaN  \n",
       "\n",
       "[10000 rows x 9 columns]"
      ]
     },
     "execution_count": 9,
     "metadata": {},
     "output_type": "execute_result"
    }
   ],
   "source": [
    "gen4train.load(\"raw_data.csv\",  \"raw_info.json\")"
   ]
  },
  {
   "cell_type": "code",
   "execution_count": 10,
   "id": "4285cf47",
   "metadata": {},
   "outputs": [],
   "source": [
    "# Set parameters for quick training\n",
    "gen4train.gen_params = {\n",
    "        \"clustering\": {\n",
    "            \"parent_scale\": 1.0,\n",
    "            \"num_clusters\": 50,\n",
    "            \"clustering_method\": \"both\",\n",
    "        },\n",
    "        \"diffusion\": {\n",
    "            \"d_layers\": [512, 1024, 1024, 1024, 512],\n",
    "            \"dropout\": 0.0,\n",
    "            \"num_timesteps\": 200,\n",
    "            \"model_type\": \"mlp\",\n",
    "            \"iterations\": 10,\n",
    "            \"batch_size\": 4096,\n",
    "            \"lr\": 0.0006,\n",
    "            \"gaussian_loss_type\": \"mse\",\n",
    "            \"weight_decay\": 1e-05,\n",
    "            \"scheduler\": \"cosine\",\n",
    "        },\n",
    "        \"classifier\": {\n",
    "            \"d_layers\": [128, 256, 512, 256, 128],\n",
    "            \"lr\": 0.0001,\n",
    "            \"dim_t\": 128,\n",
    "            \"batch_size\": 4096,\n",
    "            \"iterations\": 10,\n",
    "        },\n",
    "        \"sampling\": {\"batch_size\": 1000, \"classifier_scale\": 1.0},\n",
    "        \"matching\": {\n",
    "            \"num_matching_clusters\": 1,\n",
    "            \"matching_batch_size\": 100,\n",
    "            \"unique_matching\": True,\n",
    "            \"no_matching\": False,\n",
    "        },\n",
    "    }"
   ]
  },
  {
   "cell_type": "code",
   "execution_count": 11,
   "id": "8bf4b566",
   "metadata": {},
   "outputs": [
    {
     "name": "stderr",
     "output_type": "stream",
     "text": [
      "2025-05-30 13:41:04,404 - pysdg - INFO - 104798 - generate.py:644 - CUDA device is available. Using GPU for training.\n",
      "2025-05-30 13:41:04,404 - pysdg - INFO - 104798 - generate.py:1279 - Started training using yandex_tabddpm...\n"
     ]
    },
    {
     "name": "stdout",
     "output_type": "stream",
     "text": [
      "Table name: tutorial_data, Total dataframe shape: (10000, 12), Numerical data shape: (10000, 3), Categorical data shape: (10000, 9)\n",
      "Clustering checkpoint found, loading...\n",
      "Training None -> tutorial_data model from scratch\n",
      "Model params: {'num_classes': 0, 'is_y_cond': 'none', 'rtdl_params': {'d_layers': [512, 1024, 1024, 1024, 512], 'dropout': 0.0}, 'd_in': 12}\n",
      "mlp\n"
     ]
    },
    {
     "name": "stderr",
     "output_type": "stream",
     "text": [
      "2025-05-30 13:41:05,420 - pysdg - INFO - 104798 - generate.py:1292 - Completed training using yandex_tabddpm.\n",
      "2025-05-30 13:41:05,500 - pysdg - INFO - 104798 - generate.py:1961 - Saved ZIP file: yandex_test/pysdg_vault.zip\n",
      "2025-05-30 13:41:05,503 - pysdg - INFO - 104798 - generate.py:709 - Saved artifcat and model as a vault to yandex_test/pysdg_vault.zip.\n"
     ]
    }
   ],
   "source": [
    "gen4train.train()"
   ]
  },
  {
   "cell_type": "markdown",
   "id": "d76aad75",
   "metadata": {},
   "source": [
    "# Restore model and generate"
   ]
  },
  {
   "cell_type": "code",
   "execution_count": 15,
   "id": "57659ff9",
   "metadata": {},
   "outputs": [
    {
     "name": "stderr",
     "output_type": "stream",
     "text": [
      "2025-05-30 13:44:27,250 - pysdg - INFO - 104798 - generate.py:132 - **************Started logging the generator: yandex/tabddpm, num_cores= None.**************\n"
     ]
    },
    {
     "name": "stdout",
     "output_type": "stream",
     "text": [
      "Generating None -> tutorial_data\n",
      "Sample size: 10\n",
      "Sample timestep    0\n"
     ]
    },
    {
     "name": "stderr",
     "output_type": "stream",
     "text": [
      "2025-05-30 13:44:28,789 - pysdg - INFO - 104798 - generate.py:1338 - Generating synth no. 0 of size (10, 12) -- Completed!\n",
      "2025-05-30 13:44:30,129 - pysdg - INFO - 104798 - generate.py:1934 - The directory '/home/samer/projects/pysdg/tutorials/pysdgws4f52a78710b642b4a87e23787e1b7b9f/yandex_tmp' has been removed successfully.\n",
      "2025-05-30 13:44:30,130 - pysdg - INFO - 104798 - generate.py:2005 - The directory '/home/samer/projects/pysdg/tutorials/pysdgws4f52a78710b642b4a87e23787e1b7b9f' has been removed successfully.\n"
     ]
    }
   ],
   "source": [
    "gen=Generator(\"yandex/tabddpm\")\n",
    "gen.gen(num_rows=10, num_synths=1, pysdg_vault_path=\"yandex_test/pysdg_vault.zip\")\n",
    "synths = gen.unload()"
   ]
  },
  {
   "cell_type": "code",
   "execution_count": 17,
   "id": "a0648c6b",
   "metadata": {},
   "outputs": [
    {
     "data": {
      "application/vnd.microsoft.datawrangler.viewer.v0+json": {
       "columns": [
        {
         "name": "index",
         "rawType": "int64",
         "type": "integer"
        },
        {
         "name": "outc_cod_0",
         "rawType": "category",
         "type": "unknown"
        },
        {
         "name": "event_dt",
         "rawType": "datetime64[ns]",
         "type": "datetime"
        },
        {
         "name": "wt",
         "rawType": "float64",
         "type": "float"
        },
        {
         "name": "wt_cod",
         "rawType": "category",
         "type": "unknown"
        },
        {
         "name": "age",
         "rawType": "Int64",
         "type": "integer"
        },
        {
         "name": "age_cod",
         "rawType": "category",
         "type": "unknown"
        },
        {
         "name": "drugname_0",
         "rawType": "category",
         "type": "unknown"
        },
        {
         "name": "indi_pt_0",
         "rawType": "category",
         "type": "unknown"
        },
        {
         "name": "sex",
         "rawType": "category",
         "type": "unknown"
        }
       ],
       "ref": "a927eab8-f18e-4008-9ec6-c5ff8611edd0",
       "rows": [
        [
         "0",
         null,
         null,
         "0.6000000238418579",
         "LBS",
         null,
         "YR",
         "warfarin",
         null,
         "UNK"
        ],
        [
         "1",
         "RI",
         "1965-01-01 00:00:00",
         null,
         null,
         null,
         null,
         "warfarin",
         "White blood cell count increased",
         null
        ],
        [
         "2",
         null,
         "1965-01-01 00:00:00",
         "0.6000000238418579",
         "LBS",
         null,
         null,
         ".ALPHA.1-PROTEINASE INHIBITOR HUMAN",
         null,
         null
        ],
        [
         "3",
         null,
         null,
         "0.6000000238418579",
         "LBS",
         "0",
         "YR",
         ".ALPHA.1-PROTEINASE INHIBITOR HUMAN",
         null,
         "UNK"
        ],
        [
         "4",
         "RI",
         "2019-12-25 00:00:00",
         null,
         null,
         "28847",
         null,
         "warfarin",
         "White blood cell count increased",
         "UNK"
        ]
       ],
       "shape": {
        "columns": 9,
        "rows": 5
       }
      },
      "text/html": [
       "<div>\n",
       "<style scoped>\n",
       "    .dataframe tbody tr th:only-of-type {\n",
       "        vertical-align: middle;\n",
       "    }\n",
       "\n",
       "    .dataframe tbody tr th {\n",
       "        vertical-align: top;\n",
       "    }\n",
       "\n",
       "    .dataframe thead th {\n",
       "        text-align: right;\n",
       "    }\n",
       "</style>\n",
       "<table border=\"1\" class=\"dataframe\">\n",
       "  <thead>\n",
       "    <tr style=\"text-align: right;\">\n",
       "      <th></th>\n",
       "      <th>outc_cod_0</th>\n",
       "      <th>event_dt</th>\n",
       "      <th>wt</th>\n",
       "      <th>wt_cod</th>\n",
       "      <th>age</th>\n",
       "      <th>age_cod</th>\n",
       "      <th>drugname_0</th>\n",
       "      <th>indi_pt_0</th>\n",
       "      <th>sex</th>\n",
       "    </tr>\n",
       "  </thead>\n",
       "  <tbody>\n",
       "    <tr>\n",
       "      <th>0</th>\n",
       "      <td>NaN</td>\n",
       "      <td>NaT</td>\n",
       "      <td>0.6</td>\n",
       "      <td>LBS</td>\n",
       "      <td>&lt;NA&gt;</td>\n",
       "      <td>YR</td>\n",
       "      <td>warfarin</td>\n",
       "      <td>NaN</td>\n",
       "      <td>UNK</td>\n",
       "    </tr>\n",
       "    <tr>\n",
       "      <th>1</th>\n",
       "      <td>RI</td>\n",
       "      <td>1965-01-01</td>\n",
       "      <td>NaN</td>\n",
       "      <td>NaN</td>\n",
       "      <td>&lt;NA&gt;</td>\n",
       "      <td>NaN</td>\n",
       "      <td>warfarin</td>\n",
       "      <td>White blood cell count increased</td>\n",
       "      <td>NaN</td>\n",
       "    </tr>\n",
       "    <tr>\n",
       "      <th>2</th>\n",
       "      <td>NaN</td>\n",
       "      <td>1965-01-01</td>\n",
       "      <td>0.6</td>\n",
       "      <td>LBS</td>\n",
       "      <td>&lt;NA&gt;</td>\n",
       "      <td>NaN</td>\n",
       "      <td>.ALPHA.1-PROTEINASE INHIBITOR HUMAN</td>\n",
       "      <td>NaN</td>\n",
       "      <td>NaN</td>\n",
       "    </tr>\n",
       "    <tr>\n",
       "      <th>3</th>\n",
       "      <td>NaN</td>\n",
       "      <td>NaT</td>\n",
       "      <td>0.6</td>\n",
       "      <td>LBS</td>\n",
       "      <td>0</td>\n",
       "      <td>YR</td>\n",
       "      <td>.ALPHA.1-PROTEINASE INHIBITOR HUMAN</td>\n",
       "      <td>NaN</td>\n",
       "      <td>UNK</td>\n",
       "    </tr>\n",
       "    <tr>\n",
       "      <th>4</th>\n",
       "      <td>RI</td>\n",
       "      <td>2019-12-25</td>\n",
       "      <td>NaN</td>\n",
       "      <td>NaN</td>\n",
       "      <td>28847</td>\n",
       "      <td>NaN</td>\n",
       "      <td>warfarin</td>\n",
       "      <td>White blood cell count increased</td>\n",
       "      <td>UNK</td>\n",
       "    </tr>\n",
       "  </tbody>\n",
       "</table>\n",
       "</div>"
      ],
      "text/plain": [
       "  outc_cod_0   event_dt   wt wt_cod    age age_cod  \\\n",
       "0        NaN        NaT  0.6    LBS   <NA>      YR   \n",
       "1         RI 1965-01-01  NaN    NaN   <NA>     NaN   \n",
       "2        NaN 1965-01-01  0.6    LBS   <NA>     NaN   \n",
       "3        NaN        NaT  0.6    LBS      0      YR   \n",
       "4         RI 2019-12-25  NaN    NaN  28847     NaN   \n",
       "\n",
       "                            drugname_0                         indi_pt_0  sex  \n",
       "0                             warfarin                               NaN  UNK  \n",
       "1                             warfarin  White blood cell count increased  NaN  \n",
       "2  .ALPHA.1-PROTEINASE INHIBITOR HUMAN                               NaN  NaN  \n",
       "3  .ALPHA.1-PROTEINASE INHIBITOR HUMAN                               NaN  UNK  \n",
       "4                             warfarin  White blood cell count increased  UNK  "
      ]
     },
     "execution_count": 17,
     "metadata": {},
     "output_type": "execute_result"
    }
   ],
   "source": [
    "synths[0].head()"
   ]
  }
 ],
 "metadata": {
  "kernelspec": {
   "display_name": "pysdg_dev",
   "language": "python",
   "name": "python3"
  },
  "language_info": {
   "codemirror_mode": {
    "name": "ipython",
    "version": 3
   },
   "file_extension": ".py",
   "mimetype": "text/x-python",
   "name": "python",
   "nbconvert_exporter": "python",
   "pygments_lexer": "ipython3",
   "version": "3.10.14"
  }
 },
 "nbformat": 4,
 "nbformat_minor": 5
}
