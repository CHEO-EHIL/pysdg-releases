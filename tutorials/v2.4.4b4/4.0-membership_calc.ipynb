{
 "cells": [
  {
   "cell_type": "code",
   "execution_count": 22,
   "metadata": {},
   "outputs": [],
   "source": [
    "import pandas as pd\n",
    "from pysdg.privacy.mmbrshp import calc_membership_risk"
   ]
  },
  {
   "cell_type": "code",
   "execution_count": 23,
   "metadata": {},
   "outputs": [],
   "source": [
    "# Read the training, holdout and synthetic datasets\n",
    "train_data = pd.read_csv('raw_train.csv')\n",
    "holdout_data = pd.read_csv('raw_holdout.csv')\n",
    "synth_data = pd.read_csv('synth.csv')"
   ]
  },
  {
   "cell_type": "code",
   "execution_count": 24,
   "metadata": {},
   "outputs": [
    {
     "name": "stdout",
     "output_type": "stream",
     "text": [
      "Calculating membership disclosure risk\n",
      "Base F1 score = 0.08571428571428572\n",
      "Relative F1 score = -0.11746031746031747\n",
      "Naive F1 score = 0.18181818181818182\n"
     ]
    }
   ],
   "source": [
    "# Calculate the membership risk with default settings of quasi-identifiers (all variable names will be considered by default).\n",
    "res=calc_membership_risk(synth_data, train_data, holdout_data, population_size=10*len(train_data), attack_size=int(0.2*len(train_data)), hamming_threshold=3, seed=15)\n",
    "print(f\"Base F1 score = {res['f1']}\")\n",
    "print(f\"Relative F1 score = {res['f_rel']}\")\n",
    "print(f\"Naive F1 score = {res['f_naive']}\")\n"
   ]
  }
 ],
 "metadata": {
  "kernelspec": {
   "display_name": "pysdg_dev",
   "language": "python",
   "name": "python3"
  },
  "language_info": {
   "codemirror_mode": {
    "name": "ipython",
    "version": 3
   },
   "file_extension": ".py",
   "mimetype": "text/x-python",
   "name": "python",
   "nbconvert_exporter": "python",
   "pygments_lexer": "ipython3",
   "version": "3.10.14"
  }
 },
 "nbformat": 4,
 "nbformat_minor": 2
}
