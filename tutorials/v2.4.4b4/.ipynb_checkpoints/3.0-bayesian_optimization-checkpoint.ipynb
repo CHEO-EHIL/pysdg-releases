{
 "cells": [
  {
   "cell_type": "markdown",
   "metadata": {},
   "source": [
    "## Using Optuna's Bayesian optimization to tune hyperparameters \n",
    "\n",
    "- It is highly recommended that the Bayesian optimization routine \n",
    "is executed in an environment with access to CUDA and/or OpenMP, as it greatly \n",
    "accelerates the entire process."
   ]
  },
  {
   "cell_type": "code",
   "execution_count": 1,
   "metadata": {},
   "outputs": [
    {
     "name": "stdout",
     "output_type": "stream",
     "text": [
      "[KeOps] Warning : Cuda libraries were not detected on the system or could not be loaded ; using cpu only mode\n"
     ]
    }
   ],
   "source": [
    "from pysdg.synth.generate import Generator\n",
    "from pysdg.synth.optimize import BayesianOptimizationRoutine"
   ]
  },
  {
   "cell_type": "code",
   "execution_count": 2,
   "metadata": {},
   "outputs": [
    {
     "name": "stderr",
     "output_type": "stream",
     "text": [
      "2025-03-10 15:54:08,925 - pysdg - INFO - 3007576 - generate.py:88 - **************Started logging the generator: synthcity/ctgan, num_cores= None.**************\n",
      "2025-03-10 15:54:08,955 - pysdg - INFO - 3007576 - generate.py:250 - Checking the input metadata for any conflict in variable indexes - Passed.\n",
      "2025-03-10 15:54:11,094 - pysdg - INFO - 3007576 - generate.py:318 - The dataset ['tutorial_data'] is loaded into the generator synthcity_ctgan\n"
     ]
    },
    {
     "data": {
      "text/html": [
       "<div>\n",
       "<style scoped>\n",
       "    .dataframe tbody tr th:only-of-type {\n",
       "        vertical-align: middle;\n",
       "    }\n",
       "\n",
       "    .dataframe tbody tr th {\n",
       "        vertical-align: top;\n",
       "    }\n",
       "\n",
       "    .dataframe thead th {\n",
       "        text-align: right;\n",
       "    }\n",
       "</style>\n",
       "<table border=\"1\" class=\"dataframe\">\n",
       "  <thead>\n",
       "    <tr style=\"text-align: right;\">\n",
       "      <th></th>\n",
       "      <th>outc_cod_0</th>\n",
       "      <th>event_dt</th>\n",
       "      <th>wt</th>\n",
       "      <th>wt_cod</th>\n",
       "      <th>age</th>\n",
       "      <th>age_cod</th>\n",
       "      <th>drugname_0</th>\n",
       "      <th>indi_pt_0</th>\n",
       "      <th>sex</th>\n",
       "    </tr>\n",
       "  </thead>\n",
       "  <tbody>\n",
       "    <tr>\n",
       "      <th>0</th>\n",
       "      <td>NaN</td>\n",
       "      <td>NaT</td>\n",
       "      <td>NaN</td>\n",
       "      <td>NaN</td>\n",
       "      <td>&lt;NA&gt;</td>\n",
       "      <td>NaN</td>\n",
       "      <td>ZANTAC</td>\n",
       "      <td>NaN</td>\n",
       "      <td>NaN</td>\n",
       "    </tr>\n",
       "    <tr>\n",
       "      <th>1</th>\n",
       "      <td>DE</td>\n",
       "      <td>NaT</td>\n",
       "      <td>NaN</td>\n",
       "      <td>NaN</td>\n",
       "      <td>18</td>\n",
       "      <td>YR</td>\n",
       "      <td>OXYCONTIN</td>\n",
       "      <td>Drug abuse</td>\n",
       "      <td>M</td>\n",
       "    </tr>\n",
       "    <tr>\n",
       "      <th>2</th>\n",
       "      <td>OT</td>\n",
       "      <td>NaT</td>\n",
       "      <td>NaN</td>\n",
       "      <td>NaN</td>\n",
       "      <td>&lt;NA&gt;</td>\n",
       "      <td>NaN</td>\n",
       "      <td>LEMTRADA</td>\n",
       "      <td>NaN</td>\n",
       "      <td>NaN</td>\n",
       "    </tr>\n",
       "    <tr>\n",
       "      <th>3</th>\n",
       "      <td>OT</td>\n",
       "      <td>2019-09-17</td>\n",
       "      <td>NaN</td>\n",
       "      <td>NaN</td>\n",
       "      <td>46</td>\n",
       "      <td>YR</td>\n",
       "      <td>COSENTYX</td>\n",
       "      <td>Psoriatic arthropathy</td>\n",
       "      <td>M</td>\n",
       "    </tr>\n",
       "    <tr>\n",
       "      <th>4</th>\n",
       "      <td>DE</td>\n",
       "      <td>2016-12-01</td>\n",
       "      <td>110.0</td>\n",
       "      <td>KG</td>\n",
       "      <td>73</td>\n",
       "      <td>YR</td>\n",
       "      <td>ENTRESTO</td>\n",
       "      <td>Cardiac failure</td>\n",
       "      <td>M</td>\n",
       "    </tr>\n",
       "    <tr>\n",
       "      <th>...</th>\n",
       "      <td>...</td>\n",
       "      <td>...</td>\n",
       "      <td>...</td>\n",
       "      <td>...</td>\n",
       "      <td>...</td>\n",
       "      <td>...</td>\n",
       "      <td>...</td>\n",
       "      <td>...</td>\n",
       "      <td>...</td>\n",
       "    </tr>\n",
       "    <tr>\n",
       "      <th>9995</th>\n",
       "      <td>NaN</td>\n",
       "      <td>NaT</td>\n",
       "      <td>NaN</td>\n",
       "      <td>NaN</td>\n",
       "      <td>&lt;NA&gt;</td>\n",
       "      <td>NaN</td>\n",
       "      <td>ELIQUIS</td>\n",
       "      <td>Product used for unknown indication</td>\n",
       "      <td>NaN</td>\n",
       "    </tr>\n",
       "    <tr>\n",
       "      <th>9996</th>\n",
       "      <td>OT</td>\n",
       "      <td>NaT</td>\n",
       "      <td>NaN</td>\n",
       "      <td>NaN</td>\n",
       "      <td>26</td>\n",
       "      <td>YR</td>\n",
       "      <td>ISENTRESS</td>\n",
       "      <td>NaN</td>\n",
       "      <td>M</td>\n",
       "    </tr>\n",
       "    <tr>\n",
       "      <th>9997</th>\n",
       "      <td>NaN</td>\n",
       "      <td>NaT</td>\n",
       "      <td>NaN</td>\n",
       "      <td>NaN</td>\n",
       "      <td>&lt;NA&gt;</td>\n",
       "      <td>NaN</td>\n",
       "      <td>MYCOPHENOLATE MOFETIL</td>\n",
       "      <td>NaN</td>\n",
       "      <td>NaN</td>\n",
       "    </tr>\n",
       "    <tr>\n",
       "      <th>9998</th>\n",
       "      <td>NaN</td>\n",
       "      <td>NaT</td>\n",
       "      <td>NaN</td>\n",
       "      <td>NaN</td>\n",
       "      <td>&lt;NA&gt;</td>\n",
       "      <td>NaN</td>\n",
       "      <td>AZOPT</td>\n",
       "      <td>Product used for unknown indication</td>\n",
       "      <td>F</td>\n",
       "    </tr>\n",
       "    <tr>\n",
       "      <th>9999</th>\n",
       "      <td>NaN</td>\n",
       "      <td>NaT</td>\n",
       "      <td>NaN</td>\n",
       "      <td>NaN</td>\n",
       "      <td>&lt;NA&gt;</td>\n",
       "      <td>NaN</td>\n",
       "      <td>XOLAIR</td>\n",
       "      <td>NaN</td>\n",
       "      <td>NaN</td>\n",
       "    </tr>\n",
       "  </tbody>\n",
       "</table>\n",
       "<p>10000 rows × 9 columns</p>\n",
       "</div>"
      ],
      "text/plain": [
       "     outc_cod_0   event_dt     wt wt_cod   age age_cod             drugname_0  \\\n",
       "0           NaN        NaT    NaN    NaN  <NA>     NaN                 ZANTAC   \n",
       "1            DE        NaT    NaN    NaN    18      YR              OXYCONTIN   \n",
       "2            OT        NaT    NaN    NaN  <NA>     NaN               LEMTRADA   \n",
       "3            OT 2019-09-17    NaN    NaN    46      YR               COSENTYX   \n",
       "4            DE 2016-12-01  110.0     KG    73      YR               ENTRESTO   \n",
       "...         ...        ...    ...    ...   ...     ...                    ...   \n",
       "9995        NaN        NaT    NaN    NaN  <NA>     NaN                ELIQUIS   \n",
       "9996         OT        NaT    NaN    NaN    26      YR              ISENTRESS   \n",
       "9997        NaN        NaT    NaN    NaN  <NA>     NaN  MYCOPHENOLATE MOFETIL   \n",
       "9998        NaN        NaT    NaN    NaN  <NA>     NaN                  AZOPT   \n",
       "9999        NaN        NaT    NaN    NaN  <NA>     NaN                 XOLAIR   \n",
       "\n",
       "                                indi_pt_0  sex  \n",
       "0                                     NaN  NaN  \n",
       "1                              Drug abuse    M  \n",
       "2                                     NaN  NaN  \n",
       "3                   Psoriatic arthropathy    M  \n",
       "4                         Cardiac failure    M  \n",
       "...                                   ...  ...  \n",
       "9995  Product used for unknown indication  NaN  \n",
       "9996                                  NaN    M  \n",
       "9997                                  NaN  NaN  \n",
       "9998  Product used for unknown indication    F  \n",
       "9999                                  NaN  NaN  \n",
       "\n",
       "[10000 rows x 9 columns]"
      ]
     },
     "execution_count": 2,
     "metadata": {},
     "output_type": "execute_result"
    }
   ],
   "source": [
    "# load some data and define the generator \n",
    "gen = Generator(gen_name=\"synthcity_ctgan\")\n",
    "real=gen.load(\"./raw_data.csv\", \"./raw_info.json\")\n",
    "real\n"
   ]
  },
  {
   "cell_type": "code",
   "execution_count": 3,
   "metadata": {},
   "outputs": [],
   "source": [
    "# Write a custom evaluation function to be used in optimisaion. The shown function is just for demo purposes. Typically, you use the encoded versions of the datasets (as show below) with your evaluation measure of interest. \n",
    "def my_eval_function(gen: Generator):\n",
    "    real_data = gen.enc_real\n",
    "    synth_data = gen.enc_synths[0] # we'll be assuming that we're generating only one dataset and we compare the encoded datasets, for simplicity\n",
    "    n_mismatches  = (real_data != synth_data).sum().sum()\n",
    "    return n_mismatches"
   ]
  },
  {
   "cell_type": "code",
   "execution_count": 4,
   "metadata": {},
   "outputs": [
    {
     "name": "stderr",
     "output_type": "stream",
     "text": [
      "[2025-03-10T15:54:14.341149-0400][3007576][CRITICAL] module disabled: /share/personal/skababji/conda_envs/pysdg_dev/lib/python3.10/site-packages/synthcity/plugins/generic/plugin_goggle.py\n",
      "2025-03-10 15:54:26,966 - pysdg - INFO - 3007576 - generate.py:720 - Started training using synthcity_ctgan...\n",
      "INFO:pysdg:Started training using synthcity_ctgan...\n",
      "[2025-03-10T15:54:26.970870-0400][3007576][CRITICAL] module disabled: /share/personal/skababji/conda_envs/pysdg_dev/lib/python3.10/site-packages/synthcity/plugins/generic/plugin_goggle.py\n",
      "2025-03-10 15:54:26,982 - pysdg - INFO - 3007576 - generate.py:724 - No of Iterations=2000, Batch Size=200\n",
      "INFO:pysdg:No of Iterations=2000, Batch Size=200\n",
      " 40%|███▉      | 799/2000 [26:20<39:36,  1.98s/it]  \n",
      "2025-03-10 16:20:57,066 - pysdg - INFO - 3007576 - generate.py:732 - Completed training using synthcity_ctgan.\n",
      "INFO:pysdg:Completed training using synthcity_ctgan.\n",
      "2025-03-10 16:20:57,292 - pysdg - INFO - 3007576 - generate.py:756 - Generating synth no. 0 of size (10000, 12) -- Completed!\n",
      "INFO:pysdg:Generating synth no. 0 of size (10000, 12) -- Completed!\n",
      "2025-03-10 16:20:57,394 - pysdg - INFO - 3007576 - generate.py:720 - Started training using synthcity_ctgan...\n",
      "INFO:pysdg:Started training using synthcity_ctgan...\n",
      "[2025-03-10T16:20:57.398305-0400][3007576][CRITICAL] module disabled: /share/personal/skababji/conda_envs/pysdg_dev/lib/python3.10/site-packages/synthcity/plugins/generic/plugin_goggle.py\n",
      "2025-03-10 16:20:57,652 - pysdg - INFO - 3007576 - generate.py:724 - No of Iterations=2000, Batch Size=200\n",
      "INFO:pysdg:No of Iterations=2000, Batch Size=200\n",
      " 22%|██▏       | 449/2000 [14:33<50:17,  1.95s/it]  \n",
      "2025-03-10 16:35:36,001 - pysdg - INFO - 3007576 - generate.py:732 - Completed training using synthcity_ctgan.\n",
      "INFO:pysdg:Completed training using synthcity_ctgan.\n"
     ]
    }
   ],
   "source": [
    "# Lets try finding such set of parameters that minimizes the number of mismatches\n",
    "# At the very end of the optimization, the model with best set of parameters will be \n",
    "# retrained and stored inside bayes_opt\n",
    "\n",
    "bayes_opt = BayesianOptimizationRoutine(\n",
    "                                        gen=gen, \n",
    "                                        eval_function=my_eval_function,\n",
    "                                        objective=\"minimize\",\n",
    "                                        n_trials=1, # to make it finish faster\n",
    "                                        study_name=\"mismatches_study\",\n",
    "                                        dump_csv=False, # dumping csv will only happen at the end of the optimization\n",
    "                                        dump_sqlite=False # dumping sql happens after each trial\n",
    "                                        )"
   ]
  },
  {
   "cell_type": "code",
   "execution_count": 5,
   "metadata": {},
   "outputs": [
    {
     "ename": "AttributeError",
     "evalue": "'NoneType' object has no attribute 'gen'",
     "output_type": "error",
     "traceback": [
      "\u001b[0;31m---------------------------------------------------------------------------\u001b[0m",
      "\u001b[0;31mAttributeError\u001b[0m                            Traceback (most recent call last)",
      "Cell \u001b[0;32mIn[5], line 2\u001b[0m\n\u001b[1;32m      1\u001b[0m \u001b[38;5;66;03m# We can use the best model to generate data\u001b[39;00m\n\u001b[0;32m----> 2\u001b[0m \u001b[43mbayes_opt\u001b[49m\u001b[38;5;241;43m.\u001b[39;49m\u001b[43mbest_gen\u001b[49m\u001b[38;5;241;43m.\u001b[39;49m\u001b[43mgen\u001b[49m(num_rows\u001b[38;5;241m=\u001b[39m\u001b[38;5;28mlen\u001b[39m(real), num_synths\u001b[38;5;241m=\u001b[39m\u001b[38;5;241m1\u001b[39m)\n\u001b[1;32m      3\u001b[0m synths\u001b[38;5;241m=\u001b[39mbayes_opt\u001b[38;5;241m.\u001b[39mgen\u001b[38;5;241m.\u001b[39munload()\n\u001b[1;32m      4\u001b[0m synths[\u001b[38;5;241m0\u001b[39m]\n",
      "\u001b[0;31mAttributeError\u001b[0m: 'NoneType' object has no attribute 'gen'"
     ]
    }
   ],
   "source": [
    "# We can use the best model to generate data\n",
    "bayes_opt.best_gen.gen(num_rows=len(real), num_synths=1)\n",
    "synths=bayes_opt.gen.unload()\n",
    "synths[0]"
   ]
  },
  {
   "cell_type": "code",
   "execution_count": null,
   "metadata": {},
   "outputs": [],
   "source": [
    "bayes_opt.study.best_params"
   ]
  },
  {
   "cell_type": "code",
   "execution_count": null,
   "metadata": {},
   "outputs": [],
   "source": [
    "# look at the results and the values of our eval function\n",
    "bayes_opt.get_optimization_results(), bayes_opt.get_optimization_results().user_attrs_my_eval_function"
   ]
  }
 ],
 "metadata": {
  "kernelspec": {
   "display_name": "pysdg_dev",
   "language": "python",
   "name": "pysdg_dev"
  },
  "language_info": {
   "codemirror_mode": {
    "name": "ipython",
    "version": 3
   },
   "file_extension": ".py",
   "mimetype": "text/x-python",
   "name": "python",
   "nbconvert_exporter": "python",
   "pygments_lexer": "ipython3",
   "version": "3.10.14"
  }
 },
 "nbformat": 4,
 "nbformat_minor": 4
}
