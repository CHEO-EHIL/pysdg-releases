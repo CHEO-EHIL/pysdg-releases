{
 "cells": [
  {
   "cell_type": "markdown",
   "metadata": {},
   "source": [
    "# Tutorial: Basic usage"
   ]
  },
  {
   "cell_type": "markdown",
   "metadata": {},
   "source": [
    "**This tutorial demonstrates the core functions of pysdg.** It assumes that pysdg is already installed in a Conda environment, the environment has been activated from the shell, and this notebook is being run within that activated environment. For detailed instructions, please refer to the \"pysdg\" documentation.\n",
    "\n",
    "The following cell sets the working directory to the location of this notebook. It is assumed that all files accessed by this notebook are stored in the same directory."
   ]
  },
  {
   "cell_type": "code",
   "execution_count": 1,
   "metadata": {},
   "outputs": [],
   "source": [
    "import os\n",
    "from pathlib import Path\n",
    "current_dir = Path().resolve()\n",
    "os.chdir(current_dir)"
   ]
  },
  {
   "cell_type": "markdown",
   "metadata": {},
   "source": [
    "The core functions in pysdg include: loading, training, generating and unloading. "
   ]
  },
  {
   "cell_type": "markdown",
   "metadata": {},
   "source": [
    "First we import the necessary packages and apply the proper settings for prettier display of both Pandas data frames and Python dictionaries. The last line below imports the  Generator class from `pysdg` synth module. "
   ]
  },
  {
   "cell_type": "code",
   "execution_count": 2,
   "metadata": {},
   "outputs": [
    {
     "name": "stdout",
     "output_type": "stream",
     "text": [
      "[KeOps] Warning : Cuda libraries were not detected on the system or could not be loaded ; using cpu only mode\n"
     ]
    }
   ],
   "source": [
    "import pandas as pd\n",
    "pd.set_option('display.max_columns', None) \n",
    "pd.set_option('display.max_colwidth', 10)  \n",
    "pd.set_option('display.width', 1000)  \n",
    "\n",
    "import json \n",
    "from IPython.display import JSON\n",
    "\n",
    "from pysdg.synth.generate import Generator "
   ]
  },
  {
   "cell_type": "markdown",
   "metadata": {},
   "source": [
    "Two files are necessary to be loaded into pysdg: first the `raw` tabular dataset in CSV format and secondly the corresponding data `info` file in JSON format. The JSON file shall be manually created and it has to include several mandatory keys. Below are the paths to both files:"
   ]
  },
  {
   "cell_type": "code",
   "execution_count": 3,
   "metadata": {},
   "outputs": [],
   "source": [
    "raw_data_path='raw_data.csv'\n",
    "raw_info_path='raw_info.json'"
   ]
  },
  {
   "cell_type": "markdown",
   "metadata": {},
   "source": [
    "First, let us take a look to the first few rows of the `raw data`."
   ]
  },
  {
   "cell_type": "code",
   "execution_count": 4,
   "metadata": {},
   "outputs": [
    {
     "data": {
      "application/vnd.microsoft.datawrangler.viewer.v0+json": {
       "columns": [
        {
         "name": "index",
         "rawType": "int64",
         "type": "integer"
        },
        {
         "name": "outc_cod_0",
         "rawType": "object",
         "type": "string"
        },
        {
         "name": "event_dt",
         "rawType": "object",
         "type": "string"
        },
        {
         "name": "wt",
         "rawType": "float64",
         "type": "float"
        },
        {
         "name": "wt_cod",
         "rawType": "object",
         "type": "string"
        },
        {
         "name": "age",
         "rawType": "float64",
         "type": "float"
        },
        {
         "name": "age_cod",
         "rawType": "object",
         "type": "string"
        },
        {
         "name": "drugname_0",
         "rawType": "object",
         "type": "string"
        },
        {
         "name": "indi_pt_0",
         "rawType": "object",
         "type": "string"
        },
        {
         "name": "sex",
         "rawType": "object",
         "type": "string"
        }
       ],
       "conversionMethod": "pd.DataFrame",
       "ref": "3f7cb67f-3cac-4de8-95f5-913711ced35e",
       "rows": [
        [
         "0",
         null,
         "NaT",
         null,
         null,
         null,
         null,
         "ZANTAC",
         null,
         null
        ],
        [
         "1",
         "DE",
         "201506",
         null,
         null,
         "18.0",
         "YR",
         "OXYCONTIN",
         "Drug abuse",
         "M"
        ],
        [
         "2",
         "OT",
         "201907",
         null,
         null,
         null,
         null,
         "LEMTRADA",
         null,
         null
        ],
        [
         "3",
         "OT",
         "20190917",
         null,
         null,
         "46.0",
         "YR",
         "COSENTYX",
         "Psoriatic arthropathy",
         "M"
        ],
        [
         "4",
         "DE",
         "20161201",
         "110.0",
         "KG",
         "73.0",
         "YR",
         "ENTRESTO",
         "Cardiac failure",
         "M"
        ],
        [
         "5",
         "OT",
         null,
         "95.0",
         "KG",
         "33.0",
         "YR",
         "Champix",
         "Smoking cessation therapy",
         "M"
        ],
        [
         "6",
         "NAN",
         null,
         null,
         null,
         null,
         null,
         "CEFTRIAXONE SODIUM",
         null,
         null
        ],
        [
         "7",
         null,
         null,
         "86.0",
         "KG",
         "74.0",
         "YR",
         "LYRICA",
         "Nerve injury",
         "F"
        ],
        [
         "8",
         null,
         null,
         null,
         null,
         null,
         null,
         "XELJANZ",
         null,
         null
        ],
        [
         "9",
         null,
         "20190907",
         null,
         null,
         "57.0",
         "YR",
         "COSENTYX",
         "Ankylosing spondylitis",
         "M"
        ]
       ],
       "shape": {
        "columns": 9,
        "rows": 10
       }
      },
      "text/html": [
       "<div>\n",
       "<style scoped>\n",
       "    .dataframe tbody tr th:only-of-type {\n",
       "        vertical-align: middle;\n",
       "    }\n",
       "\n",
       "    .dataframe tbody tr th {\n",
       "        vertical-align: top;\n",
       "    }\n",
       "\n",
       "    .dataframe thead th {\n",
       "        text-align: right;\n",
       "    }\n",
       "</style>\n",
       "<table border=\"1\" class=\"dataframe\">\n",
       "  <thead>\n",
       "    <tr style=\"text-align: right;\">\n",
       "      <th></th>\n",
       "      <th>outc_cod_0</th>\n",
       "      <th>event_dt</th>\n",
       "      <th>wt</th>\n",
       "      <th>wt_cod</th>\n",
       "      <th>age</th>\n",
       "      <th>age_cod</th>\n",
       "      <th>drugname_0</th>\n",
       "      <th>indi_pt_0</th>\n",
       "      <th>sex</th>\n",
       "    </tr>\n",
       "  </thead>\n",
       "  <tbody>\n",
       "    <tr>\n",
       "      <th>0</th>\n",
       "      <td>NaN</td>\n",
       "      <td>NaT</td>\n",
       "      <td>NaN</td>\n",
       "      <td>NaN</td>\n",
       "      <td>NaN</td>\n",
       "      <td>NaN</td>\n",
       "      <td>ZANTAC</td>\n",
       "      <td>NaN</td>\n",
       "      <td>NaN</td>\n",
       "    </tr>\n",
       "    <tr>\n",
       "      <th>1</th>\n",
       "      <td>DE</td>\n",
       "      <td>201506</td>\n",
       "      <td>NaN</td>\n",
       "      <td>NaN</td>\n",
       "      <td>18.0</td>\n",
       "      <td>YR</td>\n",
       "      <td>OXYCONTIN</td>\n",
       "      <td>Drug abuse</td>\n",
       "      <td>M</td>\n",
       "    </tr>\n",
       "    <tr>\n",
       "      <th>2</th>\n",
       "      <td>OT</td>\n",
       "      <td>201907</td>\n",
       "      <td>NaN</td>\n",
       "      <td>NaN</td>\n",
       "      <td>NaN</td>\n",
       "      <td>NaN</td>\n",
       "      <td>LEMTRADA</td>\n",
       "      <td>NaN</td>\n",
       "      <td>NaN</td>\n",
       "    </tr>\n",
       "    <tr>\n",
       "      <th>3</th>\n",
       "      <td>OT</td>\n",
       "      <td>20190917</td>\n",
       "      <td>NaN</td>\n",
       "      <td>NaN</td>\n",
       "      <td>46.0</td>\n",
       "      <td>YR</td>\n",
       "      <td>COSENTYX</td>\n",
       "      <td>Psoriatic arthropathy</td>\n",
       "      <td>M</td>\n",
       "    </tr>\n",
       "    <tr>\n",
       "      <th>4</th>\n",
       "      <td>DE</td>\n",
       "      <td>20161201</td>\n",
       "      <td>110.0</td>\n",
       "      <td>KG</td>\n",
       "      <td>73.0</td>\n",
       "      <td>YR</td>\n",
       "      <td>ENTRESTO</td>\n",
       "      <td>Cardiac failure</td>\n",
       "      <td>M</td>\n",
       "    </tr>\n",
       "    <tr>\n",
       "      <th>5</th>\n",
       "      <td>OT</td>\n",
       "      <td>NaN</td>\n",
       "      <td>95.0</td>\n",
       "      <td>KG</td>\n",
       "      <td>33.0</td>\n",
       "      <td>YR</td>\n",
       "      <td>Champix</td>\n",
       "      <td>Smoking cessation therapy</td>\n",
       "      <td>M</td>\n",
       "    </tr>\n",
       "    <tr>\n",
       "      <th>6</th>\n",
       "      <td>NAN</td>\n",
       "      <td>NaN</td>\n",
       "      <td>NaN</td>\n",
       "      <td>NaN</td>\n",
       "      <td>NaN</td>\n",
       "      <td>NaN</td>\n",
       "      <td>CEFTRIAXONE SODIUM</td>\n",
       "      <td>NaN</td>\n",
       "      <td>NaN</td>\n",
       "    </tr>\n",
       "    <tr>\n",
       "      <th>7</th>\n",
       "      <td>NaN</td>\n",
       "      <td>NaN</td>\n",
       "      <td>86.0</td>\n",
       "      <td>KG</td>\n",
       "      <td>74.0</td>\n",
       "      <td>YR</td>\n",
       "      <td>LYRICA</td>\n",
       "      <td>Nerve injury</td>\n",
       "      <td>F</td>\n",
       "    </tr>\n",
       "    <tr>\n",
       "      <th>8</th>\n",
       "      <td>NaN</td>\n",
       "      <td>NaN</td>\n",
       "      <td>NaN</td>\n",
       "      <td>NaN</td>\n",
       "      <td>NaN</td>\n",
       "      <td>NaN</td>\n",
       "      <td>XELJANZ</td>\n",
       "      <td>NaN</td>\n",
       "      <td>NaN</td>\n",
       "    </tr>\n",
       "    <tr>\n",
       "      <th>9</th>\n",
       "      <td>NaN</td>\n",
       "      <td>20190907</td>\n",
       "      <td>NaN</td>\n",
       "      <td>NaN</td>\n",
       "      <td>57.0</td>\n",
       "      <td>YR</td>\n",
       "      <td>COSENTYX</td>\n",
       "      <td>Ankylosing spondylitis</td>\n",
       "      <td>M</td>\n",
       "    </tr>\n",
       "  </tbody>\n",
       "</table>\n",
       "</div>"
      ],
      "text/plain": [
       "  outc_cod_0  event_dt     wt wt_cod   age age_cod          drugname_0                  indi_pt_0  sex\n",
       "0        NaN       NaT    NaN    NaN   NaN     NaN              ZANTAC                        NaN  NaN\n",
       "1         DE    201506    NaN    NaN  18.0      YR           OXYCONTIN                 Drug abuse    M\n",
       "2         OT    201907    NaN    NaN   NaN     NaN            LEMTRADA                        NaN  NaN\n",
       "3         OT  20190917    NaN    NaN  46.0      YR            COSENTYX      Psoriatic arthropathy    M\n",
       "4         DE  20161201  110.0     KG  73.0      YR            ENTRESTO            Cardiac failure    M\n",
       "5         OT       NaN   95.0     KG  33.0      YR             Champix  Smoking cessation therapy    M\n",
       "6        NAN       NaN    NaN    NaN   NaN     NaN  CEFTRIAXONE SODIUM                        NaN  NaN\n",
       "7        NaN       NaN   86.0     KG  74.0      YR              LYRICA               Nerve injury    F\n",
       "8        NaN       NaN    NaN    NaN   NaN     NaN             XELJANZ                        NaN  NaN\n",
       "9        NaN  20190907    NaN    NaN  57.0      YR            COSENTYX     Ankylosing spondylitis    M"
      ]
     },
     "execution_count": 4,
     "metadata": {},
     "output_type": "execute_result"
    }
   ],
   "source": [
    "raw_data=pd.read_csv(raw_data_path)\n",
    "raw_data.head(10)"
   ]
  },
  {
   "cell_type": "markdown",
   "metadata": {},
   "source": [
    "Let us also take a look to the data types as interpreted by the default settings of pandas. Clearly, these data types can vary depending on the library used for reading the CSV file."
   ]
  },
  {
   "cell_type": "code",
   "execution_count": 5,
   "metadata": {},
   "outputs": [
    {
     "data": {
      "text/plain": [
       "outc_cod_0     object\n",
       "event_dt       object\n",
       "wt            float64\n",
       "wt_cod         object\n",
       "age           float64\n",
       "age_cod        object\n",
       "drugname_0     object\n",
       "indi_pt_0      object\n",
       "sex            object\n",
       "dtype: object"
      ]
     },
     "execution_count": 5,
     "metadata": {},
     "output_type": "execute_result"
    }
   ],
   "source": [
    "raw_data.dtypes"
   ]
  },
  {
   "cell_type": "markdown",
   "metadata": {},
   "source": [
    "We can see that the `raw data` above includes several representations of missing values, i.e.  `NA`, `NAN, NaT` and `<NA>`. We need to define that in the metadata JSON file. \n",
    "\n",
    "We also need to define the data types for all the variables to eliminate the dependency on the library used to read the CSV file. To simplify things, pysdg identifies four basic data types: categorical (`cat`), continuous (`cnt`) , discrete (`dscrt`) and datatime (`datetime`).  Please note that **the categorical variable can be either numbers or alphabets**. In the JSON file, we list all the indexes of the variables under the right data type. Let us take a look to the JSON file that we created earlier for the purpose of this tutorial."
   ]
  },
  {
   "cell_type": "code",
   "execution_count": 6,
   "metadata": {},
   "outputs": [
    {
     "data": {
      "application/json": {
       "cat_idxs": [
        0,
        3,
        5,
        6,
        7,
        8
       ],
       "cnt_idxs": [
        2
       ],
       "datetime_idxs": [
        1
       ],
       "ds_name": [
        "tutorial_data"
       ],
       "dscrt_idxs": [
        4
       ],
       "h0_value": [
        0
       ],
       "id_idx": [],
       "miss_vals": [
        "nan",
        "NAN",
        "<NA>",
        "NaT",
        "NaN",
        "NA",
        "None",
        ""
       ],
       "nct_nos": [],
       "population_size": [
        968435
       ],
       "quasi_idxs": [
        4,
        8
       ],
       "text_idxs": []
      },
      "text/plain": [
       "<IPython.core.display.JSON object>"
      ]
     },
     "execution_count": 6,
     "metadata": {
      "application/json": {
       "expanded": false,
       "root": "root"
      }
     },
     "output_type": "execute_result"
    }
   ],
   "source": [
    "with open(raw_info_path,\"r\") as f:\n",
    "    raw_info=json.load(f)\n",
    "    \n",
    "JSON(raw_info)"
   ]
  },
  {
   "cell_type": "markdown",
   "metadata": {},
   "source": [
    "As you see above, the dataset is given the name `tutorial_data`. This can be any name. For the time being, we will define empty lists corresponding to the keys `nct_nos`, `id_idx`, `quasi_idxs`. We also keep `h0_value` set to a list of single element which is zero. Let us focus on the remaining keys. The list corresponding to the key `cat_idxs` includes  the indexes of the categorical variables as defined by the user. For instance, the first variable (index 0) in the `raw data`, namely, `outc_cod_0` is defined as categorical, while the third variable (index 2), namely `wt` is defined as continuous.  \n",
    "\n",
    "We also note that all the occurring missing value representations are listed under `miss_vals`. Adding more representations not existing in the `raw data` is allowed and will have no impact. It is always advisable to include `nan`, `NA` and `''`.\n",
    "\n",
    "Before loading both the CSV file and its corresponding  JSON file, we need to define a generator object. We pass the name of the desired generator as an argument. You can refer to `pysdg` documentation for a list of the names of available generators. In this tutorial, will use the [bayesian network generator from Synchcity](https://synthcity.readthedocs.io/en/latest/generated/synthcity.plugins.generic.plugin_bayesian_network.html), namely, `synthcity_bayesian_network`."
   ]
  },
  {
   "cell_type": "code",
   "execution_count": 7,
   "metadata": {},
   "outputs": [
    {
     "name": "stderr",
     "output_type": "stream",
     "text": [
      "2025-03-10 14:10:03,500 - pysdg - INFO - 2985237 - generate.py:88 - **************Started logging the generator: synthcity/bayesian_network, num_cores= None.**************\n"
     ]
    }
   ],
   "source": [
    "gen=Generator(\"synthcity/bayesian_network\")"
   ]
  },
  {
   "cell_type": "markdown",
   "metadata": {},
   "source": [
    "Now we will load both the `raw data` path and its user-defined `raw info` path using the load method. In return, we will get back a clean `real` data that we can use in our downstream analysis."
   ]
  },
  {
   "cell_type": "code",
   "execution_count": 8,
   "metadata": {},
   "outputs": [
    {
     "name": "stderr",
     "output_type": "stream",
     "text": [
      "2025-03-10 14:10:03,583 - pysdg - INFO - 2985237 - generate.py:250 - Checking the input metadata for any conflict in variable indexes - Passed.\n",
      "2025-03-10 14:10:05,956 - pysdg - INFO - 2985237 - generate.py:318 - The dataset ['tutorial_data'] is loaded into the generator synthcity_bayesian_network\n"
     ]
    }
   ],
   "source": [
    "real=gen.load(raw_data_path, raw_info_path)"
   ]
  },
  {
   "cell_type": "markdown",
   "metadata": {},
   "source": [
    "The `load` method gives you the option to load the raw dataframe object rather than the raw data path e.g."
   ]
  },
  {
   "cell_type": "code",
   "execution_count": 9,
   "metadata": {},
   "outputs": [
    {
     "name": "stderr",
     "output_type": "stream",
     "text": [
      "2025-03-10 14:10:06,017 - pysdg - INFO - 2985237 - generate.py:250 - Checking the input metadata for any conflict in variable indexes - Passed.\n",
      "2025-03-10 14:10:08,300 - pysdg - INFO - 2985237 - generate.py:318 - The dataset ['tutorial_data'] is loaded into the generator synthcity_bayesian_network\n"
     ]
    }
   ],
   "source": [
    "real=gen.load(raw_data, raw_info_path)"
   ]
  },
  {
   "cell_type": "markdown",
   "metadata": {},
   "source": [
    "The clean `real data` enforces the data types as per the input `raw info` json file. Let's take a look to that as compared to the data types in the `raw data`. You can see below that all data types match what was defined in the `raw info` jon file. "
   ]
  },
  {
   "cell_type": "code",
   "execution_count": 10,
   "metadata": {},
   "outputs": [
    {
     "data": {
      "text/plain": [
       "outc_cod_0          category\n",
       "event_dt      datetime64[ns]\n",
       "wt                   float64\n",
       "wt_cod              category\n",
       "age                    Int64\n",
       "age_cod             category\n",
       "drugname_0          category\n",
       "indi_pt_0           category\n",
       "sex                 category\n",
       "dtype: object"
      ]
     },
     "execution_count": 10,
     "metadata": {},
     "output_type": "execute_result"
    }
   ],
   "source": [
    "real.dtypes"
   ]
  },
  {
   "cell_type": "markdown",
   "metadata": {},
   "source": [
    "Moreover, all the variables in the `real` data will hold missing value representations conforming to their datatype. Let us take a look to teh first rows of `real` data as compared to `raw data`. It is imperative that if the `real` is saved to a CSV file, all missing values will hold a unified representation. "
   ]
  },
  {
   "cell_type": "code",
   "execution_count": 11,
   "metadata": {},
   "outputs": [
    {
     "data": {
      "application/vnd.microsoft.datawrangler.viewer.v0+json": {
       "columns": [
        {
         "name": "index",
         "rawType": "int64",
         "type": "integer"
        },
        {
         "name": "outc_cod_0",
         "rawType": "category",
         "type": "unknown"
        },
        {
         "name": "event_dt",
         "rawType": "datetime64[ns]",
         "type": "datetime"
        },
        {
         "name": "wt",
         "rawType": "float64",
         "type": "float"
        },
        {
         "name": "wt_cod",
         "rawType": "category",
         "type": "unknown"
        },
        {
         "name": "age",
         "rawType": "Int64",
         "type": "integer"
        },
        {
         "name": "age_cod",
         "rawType": "category",
         "type": "unknown"
        },
        {
         "name": "drugname_0",
         "rawType": "category",
         "type": "unknown"
        },
        {
         "name": "indi_pt_0",
         "rawType": "category",
         "type": "unknown"
        },
        {
         "name": "sex",
         "rawType": "category",
         "type": "unknown"
        }
       ],
       "conversionMethod": "pd.DataFrame",
       "ref": "b9dd5954-3934-43b8-a9b8-cc110b65b764",
       "rows": [
        [
         "0",
         null,
         null,
         null,
         null,
         null,
         null,
         "ZANTAC",
         null,
         null
        ],
        [
         "1",
         "DE",
         null,
         null,
         null,
         "18",
         "YR",
         "OXYCONTIN",
         "Drug abuse",
         "M"
        ],
        [
         "2",
         "OT",
         null,
         null,
         null,
         null,
         null,
         "LEMTRADA",
         null,
         null
        ],
        [
         "3",
         "OT",
         "2019-09-17 00:00:00",
         null,
         null,
         "46",
         "YR",
         "COSENTYX",
         "Psoriatic arthropathy",
         "M"
        ],
        [
         "4",
         "DE",
         "2016-12-01 00:00:00",
         "110.0",
         "KG",
         "73",
         "YR",
         "ENTRESTO",
         "Cardiac failure",
         "M"
        ],
        [
         "5",
         "OT",
         null,
         "95.0",
         "KG",
         "33",
         "YR",
         "Champix",
         "Smoking cessation therapy",
         "M"
        ],
        [
         "6",
         null,
         null,
         null,
         null,
         null,
         null,
         "CEFTRIAXONE SODIUM",
         null,
         null
        ],
        [
         "7",
         null,
         null,
         "86.0",
         "KG",
         "74",
         "YR",
         "LYRICA",
         "Nerve injury",
         "F"
        ],
        [
         "8",
         null,
         null,
         null,
         null,
         null,
         null,
         "XELJANZ",
         null,
         null
        ],
        [
         "9",
         null,
         "2019-09-07 00:00:00",
         null,
         null,
         "57",
         "YR",
         "COSENTYX",
         "Ankylosing spondylitis",
         "M"
        ]
       ],
       "shape": {
        "columns": 9,
        "rows": 10
       }
      },
      "text/html": [
       "<div>\n",
       "<style scoped>\n",
       "    .dataframe tbody tr th:only-of-type {\n",
       "        vertical-align: middle;\n",
       "    }\n",
       "\n",
       "    .dataframe tbody tr th {\n",
       "        vertical-align: top;\n",
       "    }\n",
       "\n",
       "    .dataframe thead th {\n",
       "        text-align: right;\n",
       "    }\n",
       "</style>\n",
       "<table border=\"1\" class=\"dataframe\">\n",
       "  <thead>\n",
       "    <tr style=\"text-align: right;\">\n",
       "      <th></th>\n",
       "      <th>outc_cod_0</th>\n",
       "      <th>event_dt</th>\n",
       "      <th>wt</th>\n",
       "      <th>wt_cod</th>\n",
       "      <th>age</th>\n",
       "      <th>age_cod</th>\n",
       "      <th>drugname_0</th>\n",
       "      <th>indi_pt_0</th>\n",
       "      <th>sex</th>\n",
       "    </tr>\n",
       "  </thead>\n",
       "  <tbody>\n",
       "    <tr>\n",
       "      <th>0</th>\n",
       "      <td>NaN</td>\n",
       "      <td>NaT</td>\n",
       "      <td>NaN</td>\n",
       "      <td>NaN</td>\n",
       "      <td>&lt;NA&gt;</td>\n",
       "      <td>NaN</td>\n",
       "      <td>ZANTAC</td>\n",
       "      <td>NaN</td>\n",
       "      <td>NaN</td>\n",
       "    </tr>\n",
       "    <tr>\n",
       "      <th>1</th>\n",
       "      <td>DE</td>\n",
       "      <td>NaT</td>\n",
       "      <td>NaN</td>\n",
       "      <td>NaN</td>\n",
       "      <td>18</td>\n",
       "      <td>YR</td>\n",
       "      <td>OXYCONTIN</td>\n",
       "      <td>Drug abuse</td>\n",
       "      <td>M</td>\n",
       "    </tr>\n",
       "    <tr>\n",
       "      <th>2</th>\n",
       "      <td>OT</td>\n",
       "      <td>NaT</td>\n",
       "      <td>NaN</td>\n",
       "      <td>NaN</td>\n",
       "      <td>&lt;NA&gt;</td>\n",
       "      <td>NaN</td>\n",
       "      <td>LEMTRADA</td>\n",
       "      <td>NaN</td>\n",
       "      <td>NaN</td>\n",
       "    </tr>\n",
       "    <tr>\n",
       "      <th>3</th>\n",
       "      <td>OT</td>\n",
       "      <td>2019-09-17</td>\n",
       "      <td>NaN</td>\n",
       "      <td>NaN</td>\n",
       "      <td>46</td>\n",
       "      <td>YR</td>\n",
       "      <td>COSENTYX</td>\n",
       "      <td>Psoriatic arthropathy</td>\n",
       "      <td>M</td>\n",
       "    </tr>\n",
       "    <tr>\n",
       "      <th>4</th>\n",
       "      <td>DE</td>\n",
       "      <td>2016-12-01</td>\n",
       "      <td>110.0</td>\n",
       "      <td>KG</td>\n",
       "      <td>73</td>\n",
       "      <td>YR</td>\n",
       "      <td>ENTRESTO</td>\n",
       "      <td>Cardiac failure</td>\n",
       "      <td>M</td>\n",
       "    </tr>\n",
       "    <tr>\n",
       "      <th>5</th>\n",
       "      <td>OT</td>\n",
       "      <td>NaT</td>\n",
       "      <td>95.0</td>\n",
       "      <td>KG</td>\n",
       "      <td>33</td>\n",
       "      <td>YR</td>\n",
       "      <td>Champix</td>\n",
       "      <td>Smoking cessation therapy</td>\n",
       "      <td>M</td>\n",
       "    </tr>\n",
       "    <tr>\n",
       "      <th>6</th>\n",
       "      <td>NaN</td>\n",
       "      <td>NaT</td>\n",
       "      <td>NaN</td>\n",
       "      <td>NaN</td>\n",
       "      <td>&lt;NA&gt;</td>\n",
       "      <td>NaN</td>\n",
       "      <td>CEFTRIAXONE SODIUM</td>\n",
       "      <td>NaN</td>\n",
       "      <td>NaN</td>\n",
       "    </tr>\n",
       "    <tr>\n",
       "      <th>7</th>\n",
       "      <td>NaN</td>\n",
       "      <td>NaT</td>\n",
       "      <td>86.0</td>\n",
       "      <td>KG</td>\n",
       "      <td>74</td>\n",
       "      <td>YR</td>\n",
       "      <td>LYRICA</td>\n",
       "      <td>Nerve injury</td>\n",
       "      <td>F</td>\n",
       "    </tr>\n",
       "    <tr>\n",
       "      <th>8</th>\n",
       "      <td>NaN</td>\n",
       "      <td>NaT</td>\n",
       "      <td>NaN</td>\n",
       "      <td>NaN</td>\n",
       "      <td>&lt;NA&gt;</td>\n",
       "      <td>NaN</td>\n",
       "      <td>XELJANZ</td>\n",
       "      <td>NaN</td>\n",
       "      <td>NaN</td>\n",
       "    </tr>\n",
       "    <tr>\n",
       "      <th>9</th>\n",
       "      <td>NaN</td>\n",
       "      <td>2019-09-07</td>\n",
       "      <td>NaN</td>\n",
       "      <td>NaN</td>\n",
       "      <td>57</td>\n",
       "      <td>YR</td>\n",
       "      <td>COSENTYX</td>\n",
       "      <td>Ankylosing spondylitis</td>\n",
       "      <td>M</td>\n",
       "    </tr>\n",
       "  </tbody>\n",
       "</table>\n",
       "</div>"
      ],
      "text/plain": [
       "  outc_cod_0   event_dt     wt wt_cod   age age_cod          drugname_0                  indi_pt_0  sex\n",
       "0        NaN        NaT    NaN    NaN  <NA>     NaN              ZANTAC                        NaN  NaN\n",
       "1         DE        NaT    NaN    NaN    18      YR           OXYCONTIN                 Drug abuse    M\n",
       "2         OT        NaT    NaN    NaN  <NA>     NaN            LEMTRADA                        NaN  NaN\n",
       "3         OT 2019-09-17    NaN    NaN    46      YR            COSENTYX      Psoriatic arthropathy    M\n",
       "4         DE 2016-12-01  110.0     KG    73      YR            ENTRESTO            Cardiac failure    M\n",
       "5         OT        NaT   95.0     KG    33      YR             Champix  Smoking cessation therapy    M\n",
       "6        NaN        NaT    NaN    NaN  <NA>     NaN  CEFTRIAXONE SODIUM                        NaN  NaN\n",
       "7        NaN        NaT   86.0     KG    74      YR              LYRICA               Nerve injury    F\n",
       "8        NaN        NaT    NaN    NaN  <NA>     NaN             XELJANZ                        NaN  NaN\n",
       "9        NaN 2019-09-07    NaN    NaN    57      YR            COSENTYX     Ankylosing spondylitis    M"
      ]
     },
     "execution_count": 11,
     "metadata": {},
     "output_type": "execute_result"
    }
   ],
   "source": [
    "real.head(10)"
   ]
  },
  {
   "cell_type": "markdown",
   "metadata": {},
   "source": [
    "We can further explore what happens with the input `raw info` file. Let us retrieve the `info` from our `gen` object. As you see below, the variable indexes are converted into variable names."
   ]
  },
  {
   "cell_type": "code",
   "execution_count": 12,
   "metadata": {},
   "outputs": [
    {
     "data": {
      "application/json": {
       "cat_names": [
        "outc_cod_0",
        "wt_cod",
        "age_cod",
        "drugname_0",
        "indi_pt_0",
        "sex"
       ],
       "cnt_names": [
        "wt"
       ],
       "datetime_names": [
        "event_dt"
       ],
       "ds_fname": null,
       "ds_name": [
        "tutorial_data"
       ],
       "dscrt_names": [
        "age"
       ],
       "h0_value": [
        0
       ],
       "id_name": [],
       "miss_vals": [
        "nan",
        "NAN",
        "<NA>",
        "NaT",
        "NaN",
        "NA",
        "None",
        ""
       ],
       "nct_nos": [],
       "population_size": [
        968435
       ],
       "quasi_names": [
        "age",
        "sex"
       ],
       "text_names": []
      },
      "text/plain": [
       "<IPython.core.display.JSON object>"
      ]
     },
     "execution_count": 12,
     "metadata": {
      "application/json": {
       "expanded": false,
       "root": "root"
      }
     },
     "output_type": "execute_result"
    }
   ],
   "source": [
    "JSON(gen.real_info)"
   ]
  },
  {
   "cell_type": "markdown",
   "metadata": {},
   "source": [
    "The `load` method encodes the `real` data to be used for training the desired generator. Let us take a look to the `encoded real` data frame."
   ]
  },
  {
   "cell_type": "code",
   "execution_count": 13,
   "metadata": {},
   "outputs": [
    {
     "data": {
      "application/vnd.microsoft.datawrangler.viewer.v0+json": {
       "columns": [
        {
         "name": "index",
         "rawType": "int64",
         "type": "integer"
        },
        {
         "name": "outc_cod_0%%%0",
         "rawType": "category",
         "type": "unknown"
        },
        {
         "name": "event_dt%%%1",
         "rawType": "float64",
         "type": "float"
        },
        {
         "name": "wt%%%2",
         "rawType": "float64",
         "type": "float"
        },
        {
         "name": "wt_cod%%%3",
         "rawType": "category",
         "type": "unknown"
        },
        {
         "name": "age%%%4",
         "rawType": "float64",
         "type": "float"
        },
        {
         "name": "age_cod%%%5",
         "rawType": "category",
         "type": "unknown"
        },
        {
         "name": "drugname_0%%%6",
         "rawType": "category",
         "type": "unknown"
        },
        {
         "name": "indi_pt_0%%%7",
         "rawType": "category",
         "type": "unknown"
        },
        {
         "name": "sex%%%8",
         "rawType": "category",
         "type": "unknown"
        },
        {
         "name": "wt%%%2_missing",
         "rawType": "bool",
         "type": "boolean"
        },
        {
         "name": "age%%%4_missing",
         "rawType": "bool",
         "type": "boolean"
        },
        {
         "name": "event_dt%%%1_missing",
         "rawType": "bool",
         "type": "boolean"
        }
       ],
       "conversionMethod": "pd.DataFrame",
       "ref": "3d87b156-af77-438d-b761-9517ace86b89",
       "rows": [
        [
         "0",
         "%%MISS-0%%",
         "19576.157498824636",
         "73.73143151390319",
         "%%MISS-0%%",
         "65.0",
         "%%MISS-0%%",
         "ZANTAC",
         "%%MISS-0%%",
         "%%MISS-0%%",
         "True",
         "True",
         "True"
        ],
        [
         "1",
         "DE",
         "19576.157498824636",
         "73.73143151390319",
         "%%MISS-0%%",
         "18.0",
         "YR",
         "OXYCONTIN",
         "Drug abuse",
         "M",
         "True",
         "False",
         "True"
        ],
        [
         "2",
         "OT",
         "19576.157498824636",
         "73.73143151390319",
         "%%MISS-0%%",
         "65.0",
         "%%MISS-0%%",
         "LEMTRADA",
         "%%MISS-0%%",
         "%%MISS-0%%",
         "True",
         "True",
         "True"
        ],
        [
         "3",
         "OT",
         "19982.0",
         "73.73143151390319",
         "%%MISS-0%%",
         "46.0",
         "YR",
         "COSENTYX",
         "Psoriatic arthropathy",
         "M",
         "True",
         "False",
         "False"
        ],
        [
         "4",
         "DE",
         "18962.0",
         "110.0",
         "KG",
         "73.0",
         "YR",
         "ENTRESTO",
         "Cardiac failure",
         "M",
         "False",
         "False",
         "False"
        ],
        [
         "5",
         "OT",
         "19576.157498824636",
         "95.0",
         "KG",
         "33.0",
         "YR",
         "Champix",
         "Smoking cessation therapy",
         "M",
         "False",
         "False",
         "True"
        ],
        [
         "6",
         "%%MISS-1%%",
         "19576.157498824636",
         "73.73143151390319",
         "%%MISS-0%%",
         "65.0",
         "%%MISS-0%%",
         "CEFTRIAXONE SODIUM",
         "%%MISS-0%%",
         "%%MISS-0%%",
         "True",
         "True",
         "True"
        ],
        [
         "7",
         "%%MISS-0%%",
         "19576.157498824636",
         "86.0",
         "KG",
         "74.0",
         "YR",
         "LYRICA",
         "Nerve injury",
         "F",
         "False",
         "False",
         "True"
        ],
        [
         "8",
         "%%MISS-0%%",
         "19576.157498824636",
         "73.73143151390319",
         "%%MISS-0%%",
         "65.0",
         "%%MISS-0%%",
         "XELJANZ",
         "%%MISS-0%%",
         "%%MISS-0%%",
         "True",
         "True",
         "True"
        ],
        [
         "9",
         "%%MISS-0%%",
         "19972.0",
         "73.73143151390319",
         "%%MISS-0%%",
         "57.0",
         "YR",
         "COSENTYX",
         "Ankylosing spondylitis",
         "M",
         "True",
         "False",
         "False"
        ]
       ],
       "shape": {
        "columns": 12,
        "rows": 10
       }
      },
      "text/html": [
       "<div>\n",
       "<style scoped>\n",
       "    .dataframe tbody tr th:only-of-type {\n",
       "        vertical-align: middle;\n",
       "    }\n",
       "\n",
       "    .dataframe tbody tr th {\n",
       "        vertical-align: top;\n",
       "    }\n",
       "\n",
       "    .dataframe thead th {\n",
       "        text-align: right;\n",
       "    }\n",
       "</style>\n",
       "<table border=\"1\" class=\"dataframe\">\n",
       "  <thead>\n",
       "    <tr style=\"text-align: right;\">\n",
       "      <th></th>\n",
       "      <th>outc_cod_0%%%0</th>\n",
       "      <th>event_dt%%%1</th>\n",
       "      <th>wt%%%2</th>\n",
       "      <th>wt_cod%%%3</th>\n",
       "      <th>age%%%4</th>\n",
       "      <th>age_cod%%%5</th>\n",
       "      <th>drugname_0%%%6</th>\n",
       "      <th>indi_pt_0%%%7</th>\n",
       "      <th>sex%%%8</th>\n",
       "      <th>wt%%%2_missing</th>\n",
       "      <th>age%%%4_missing</th>\n",
       "      <th>event_dt%%%1_missing</th>\n",
       "    </tr>\n",
       "  </thead>\n",
       "  <tbody>\n",
       "    <tr>\n",
       "      <th>0</th>\n",
       "      <td>%%MISS-0%%</td>\n",
       "      <td>19576.157499</td>\n",
       "      <td>73.731432</td>\n",
       "      <td>%%MISS-0%%</td>\n",
       "      <td>65.0</td>\n",
       "      <td>%%MISS-0%%</td>\n",
       "      <td>ZANTAC</td>\n",
       "      <td>%%MISS-0%%</td>\n",
       "      <td>%%MISS-0%%</td>\n",
       "      <td>True</td>\n",
       "      <td>True</td>\n",
       "      <td>True</td>\n",
       "    </tr>\n",
       "    <tr>\n",
       "      <th>1</th>\n",
       "      <td>DE</td>\n",
       "      <td>19576.157499</td>\n",
       "      <td>73.731432</td>\n",
       "      <td>%%MISS-0%%</td>\n",
       "      <td>18.0</td>\n",
       "      <td>YR</td>\n",
       "      <td>OXYCONTIN</td>\n",
       "      <td>Drug abuse</td>\n",
       "      <td>M</td>\n",
       "      <td>True</td>\n",
       "      <td>False</td>\n",
       "      <td>True</td>\n",
       "    </tr>\n",
       "    <tr>\n",
       "      <th>2</th>\n",
       "      <td>OT</td>\n",
       "      <td>19576.157499</td>\n",
       "      <td>73.731432</td>\n",
       "      <td>%%MISS-0%%</td>\n",
       "      <td>65.0</td>\n",
       "      <td>%%MISS-0%%</td>\n",
       "      <td>LEMTRADA</td>\n",
       "      <td>%%MISS-0%%</td>\n",
       "      <td>%%MISS-0%%</td>\n",
       "      <td>True</td>\n",
       "      <td>True</td>\n",
       "      <td>True</td>\n",
       "    </tr>\n",
       "    <tr>\n",
       "      <th>3</th>\n",
       "      <td>OT</td>\n",
       "      <td>19982.000000</td>\n",
       "      <td>73.731432</td>\n",
       "      <td>%%MISS-0%%</td>\n",
       "      <td>46.0</td>\n",
       "      <td>YR</td>\n",
       "      <td>COSENTYX</td>\n",
       "      <td>Psoriatic arthropathy</td>\n",
       "      <td>M</td>\n",
       "      <td>True</td>\n",
       "      <td>False</td>\n",
       "      <td>False</td>\n",
       "    </tr>\n",
       "    <tr>\n",
       "      <th>4</th>\n",
       "      <td>DE</td>\n",
       "      <td>18962.000000</td>\n",
       "      <td>110.000000</td>\n",
       "      <td>KG</td>\n",
       "      <td>73.0</td>\n",
       "      <td>YR</td>\n",
       "      <td>ENTRESTO</td>\n",
       "      <td>Cardiac failure</td>\n",
       "      <td>M</td>\n",
       "      <td>False</td>\n",
       "      <td>False</td>\n",
       "      <td>False</td>\n",
       "    </tr>\n",
       "    <tr>\n",
       "      <th>5</th>\n",
       "      <td>OT</td>\n",
       "      <td>19576.157499</td>\n",
       "      <td>95.000000</td>\n",
       "      <td>KG</td>\n",
       "      <td>33.0</td>\n",
       "      <td>YR</td>\n",
       "      <td>Champix</td>\n",
       "      <td>Smoking cessation therapy</td>\n",
       "      <td>M</td>\n",
       "      <td>False</td>\n",
       "      <td>False</td>\n",
       "      <td>True</td>\n",
       "    </tr>\n",
       "    <tr>\n",
       "      <th>6</th>\n",
       "      <td>%%MISS-1%%</td>\n",
       "      <td>19576.157499</td>\n",
       "      <td>73.731432</td>\n",
       "      <td>%%MISS-0%%</td>\n",
       "      <td>65.0</td>\n",
       "      <td>%%MISS-0%%</td>\n",
       "      <td>CEFTRIAXONE SODIUM</td>\n",
       "      <td>%%MISS-0%%</td>\n",
       "      <td>%%MISS-0%%</td>\n",
       "      <td>True</td>\n",
       "      <td>True</td>\n",
       "      <td>True</td>\n",
       "    </tr>\n",
       "    <tr>\n",
       "      <th>7</th>\n",
       "      <td>%%MISS-0%%</td>\n",
       "      <td>19576.157499</td>\n",
       "      <td>86.000000</td>\n",
       "      <td>KG</td>\n",
       "      <td>74.0</td>\n",
       "      <td>YR</td>\n",
       "      <td>LYRICA</td>\n",
       "      <td>Nerve injury</td>\n",
       "      <td>F</td>\n",
       "      <td>False</td>\n",
       "      <td>False</td>\n",
       "      <td>True</td>\n",
       "    </tr>\n",
       "    <tr>\n",
       "      <th>8</th>\n",
       "      <td>%%MISS-0%%</td>\n",
       "      <td>19576.157499</td>\n",
       "      <td>73.731432</td>\n",
       "      <td>%%MISS-0%%</td>\n",
       "      <td>65.0</td>\n",
       "      <td>%%MISS-0%%</td>\n",
       "      <td>XELJANZ</td>\n",
       "      <td>%%MISS-0%%</td>\n",
       "      <td>%%MISS-0%%</td>\n",
       "      <td>True</td>\n",
       "      <td>True</td>\n",
       "      <td>True</td>\n",
       "    </tr>\n",
       "    <tr>\n",
       "      <th>9</th>\n",
       "      <td>%%MISS-0%%</td>\n",
       "      <td>19972.000000</td>\n",
       "      <td>73.731432</td>\n",
       "      <td>%%MISS-0%%</td>\n",
       "      <td>57.0</td>\n",
       "      <td>YR</td>\n",
       "      <td>COSENTYX</td>\n",
       "      <td>Ankylosing spondylitis</td>\n",
       "      <td>M</td>\n",
       "      <td>True</td>\n",
       "      <td>False</td>\n",
       "      <td>False</td>\n",
       "    </tr>\n",
       "  </tbody>\n",
       "</table>\n",
       "</div>"
      ],
      "text/plain": [
       "  outc_cod_0%%%0  event_dt%%%1      wt%%%2  wt_cod%%%3  age%%%4 age_cod%%%5      drugname_0%%%6              indi_pt_0%%%7     sex%%%8  wt%%%2_missing  age%%%4_missing  event_dt%%%1_missing\n",
       "0     %%MISS-0%%  19576.157499   73.731432  %%MISS-0%%     65.0  %%MISS-0%%              ZANTAC                 %%MISS-0%%  %%MISS-0%%            True             True                  True\n",
       "1             DE  19576.157499   73.731432  %%MISS-0%%     18.0          YR           OXYCONTIN                 Drug abuse           M            True            False                  True\n",
       "2             OT  19576.157499   73.731432  %%MISS-0%%     65.0  %%MISS-0%%            LEMTRADA                 %%MISS-0%%  %%MISS-0%%            True             True                  True\n",
       "3             OT  19982.000000   73.731432  %%MISS-0%%     46.0          YR            COSENTYX      Psoriatic arthropathy           M            True            False                 False\n",
       "4             DE  18962.000000  110.000000          KG     73.0          YR            ENTRESTO            Cardiac failure           M           False            False                 False\n",
       "5             OT  19576.157499   95.000000          KG     33.0          YR             Champix  Smoking cessation therapy           M           False            False                  True\n",
       "6     %%MISS-1%%  19576.157499   73.731432  %%MISS-0%%     65.0  %%MISS-0%%  CEFTRIAXONE SODIUM                 %%MISS-0%%  %%MISS-0%%            True             True                  True\n",
       "7     %%MISS-0%%  19576.157499   86.000000          KG     74.0          YR              LYRICA               Nerve injury           F           False            False                  True\n",
       "8     %%MISS-0%%  19576.157499   73.731432  %%MISS-0%%     65.0  %%MISS-0%%             XELJANZ                 %%MISS-0%%  %%MISS-0%%            True             True                  True\n",
       "9     %%MISS-0%%  19972.000000   73.731432  %%MISS-0%%     57.0          YR            COSENTYX     Ankylosing spondylitis           M            True            False                 False"
      ]
     },
     "execution_count": 13,
     "metadata": {},
     "output_type": "execute_result"
    }
   ],
   "source": [
    "gen.enc_real.head(10)"
   ]
  },
  {
   "cell_type": "markdown",
   "metadata": {},
   "source": [
    "After loading the data, we can start training the desired generator. "
   ]
  },
  {
   "cell_type": "code",
   "execution_count": 14,
   "metadata": {},
   "outputs": [
    {
     "name": "stderr",
     "output_type": "stream",
     "text": [
      "[2025-03-10T14:10:11.374224-0400][2985237][CRITICAL] module disabled: /share/personal/skababji/conda_envs/pysdg_dev/lib/python3.10/site-packages/synthcity/plugins/generic/plugin_goggle.py\n",
      "2025-03-10 14:10:21,127 - pysdg - INFO - 2985237 - generate.py:703 - Started training using synthcity_bayesian_network...\n",
      "INFO:pysdg:Started training using synthcity_bayesian_network...\n",
      "2025-03-10 14:11:53,705 - pysdg - INFO - 2985237 - generate.py:708 - Completed training using synthcity_bayesian_network.\n",
      "INFO:pysdg:Completed training using synthcity_bayesian_network.\n"
     ]
    }
   ],
   "source": [
    "gen.train()"
   ]
  },
  {
   "cell_type": "markdown",
   "metadata": {},
   "source": [
    "Once trained, the model can be used to generate the required number of records and synthetic datasets. In the following code line below, we are generating two synthetic datasets, each with the same number of records of the real data set. "
   ]
  },
  {
   "cell_type": "code",
   "execution_count": 15,
   "metadata": {},
   "outputs": [
    {
     "name": "stderr",
     "output_type": "stream",
     "text": [
      "2025-03-10 14:11:55,820 - pysdg - INFO - 2985237 - generate.py:756 - Generating synth no. 0 of size (10000, 12) -- Completed!\n",
      "INFO:pysdg:Generating synth no. 0 of size (10000, 12) -- Completed!\n",
      "2025-03-10 14:11:57,998 - pysdg - INFO - 2985237 - generate.py:756 - Generating synth no. 1 of size (10000, 12) -- Completed!\n",
      "INFO:pysdg:Generating synth no. 1 of size (10000, 12) -- Completed!\n"
     ]
    }
   ],
   "source": [
    "gen.gen(num_rows=len(real), num_synths=2)"
   ]
  },
  {
   "cell_type": "markdown",
   "metadata": {},
   "source": [
    "The generated synthetic datasets are both encoded. For instance, we can check the first 10 records of the first synthetic dataset using:"
   ]
  },
  {
   "cell_type": "code",
   "execution_count": 16,
   "metadata": {},
   "outputs": [
    {
     "data": {
      "application/vnd.microsoft.datawrangler.viewer.v0+json": {
       "columns": [
        {
         "name": "index",
         "rawType": "int64",
         "type": "integer"
        },
        {
         "name": "outc_cod_0%%%0",
         "rawType": "category",
         "type": "unknown"
        },
        {
         "name": "event_dt%%%1",
         "rawType": "float64",
         "type": "float"
        },
        {
         "name": "wt%%%2",
         "rawType": "float64",
         "type": "float"
        },
        {
         "name": "wt_cod%%%3",
         "rawType": "category",
         "type": "unknown"
        },
        {
         "name": "age%%%4",
         "rawType": "float64",
         "type": "float"
        },
        {
         "name": "age_cod%%%5",
         "rawType": "category",
         "type": "unknown"
        },
        {
         "name": "drugname_0%%%6",
         "rawType": "category",
         "type": "unknown"
        },
        {
         "name": "indi_pt_0%%%7",
         "rawType": "category",
         "type": "unknown"
        },
        {
         "name": "sex%%%8",
         "rawType": "category",
         "type": "unknown"
        },
        {
         "name": "wt%%%2_missing",
         "rawType": "bool",
         "type": "boolean"
        },
        {
         "name": "age%%%4_missing",
         "rawType": "bool",
         "type": "boolean"
        },
        {
         "name": "event_dt%%%1_missing",
         "rawType": "bool",
         "type": "boolean"
        }
       ],
       "conversionMethod": "pd.DataFrame",
       "ref": "da5b0aac-13f3-4638-b0d0-68f4fa162847",
       "rows": [
        [
         "0",
         "%%MISS-0%%",
         "19571.941165411004",
         "73.65791586899215",
         "%%MISS-0%%",
         "51.31429510492684",
         "%%MISS-0%%",
         "VARGATEF",
         "%%MISS-0%%",
         "%%MISS-0%%",
         "True",
         "True",
         "True"
        ],
        [
         "1",
         "OT",
         "19574.526627044437",
         "73.7029957667915",
         "%%MISS-0%%",
         "59.706388770549005",
         "%%MISS-0%%",
         "ZESTRIL",
         "%%MISS-0%%",
         "%%MISS-0%%",
         "True",
         "True",
         "True"
        ],
        [
         "2",
         "LT",
         "19578.92448464636",
         "73.77967645261842",
         "%%MISS-0%%",
         "73.98129907907983",
         "%%MISS-0%%",
         "CASIRIVIMAB\\IMDEVIMAB",
         "Neutrophil function disorder",
         "M",
         "True",
         "True",
         "True"
        ],
        [
         "3",
         "%%MISS-0%%",
         "19575.225284111933",
         "73.71517749433767",
         "%%MISS-0%%",
         "61.97414454567157",
         "%%MISS-0%%",
         "XTAMPZA ER",
         "%%MISS-0%%",
         "%%MISS-0%%",
         "True",
         "True",
         "True"
        ],
        [
         "4",
         "%%MISS-0%%",
         "19576.28291243058",
         "73.73361821528968",
         "%%MISS-0%%",
         "65.40707729498054",
         "%%MISS-0%%",
         "BRIGATINIB",
         "Product used for unknown indication",
         "%%MISS-0%%",
         "True",
         "True",
         "True"
        ],
        [
         "5",
         "%%MISS-0%%",
         "19573.905605238157",
         "73.69216768131685",
         "%%MISS-0%%",
         "57.69062760074464",
         "%%MISS-0%%",
         "UPADACITINIB",
         "%%MISS-0%%",
         "%%MISS-0%%",
         "True",
         "True",
         "True"
        ],
        [
         "6",
         "%%MISS-0%%",
         "19886.428140387037",
         "29.77055343352471",
         "KG",
         "13.406350528868543",
         "MON",
         "Dolutegravir",
         "Myelodysplastic syndrome",
         "M",
         "False",
         "False",
         "False"
        ],
        [
         "7",
         "%%MISS-0%%",
         "17695.249434824465",
         "73.71218956642919",
         "%%MISS-0%%",
         "61.41791056781973",
         "%%MISS-0%%",
         "GAMMAPLEX",
         "Metastases to bone",
         "F",
         "True",
         "True",
         "False"
        ],
        [
         "8",
         "%%MISS-0%%",
         "19578.279915928546",
         "73.76843780511814",
         "%%MISS-0%%",
         "71.88910750142854",
         "%%MISS-0%%",
         "DURVALUMAB",
         "Prostatomegaly",
         "F",
         "True",
         "True",
         "True"
        ],
        [
         "9",
         "%%MISS-0%%",
         "19575.333824403722",
         "73.71706999399723",
         "%%MISS-0%%",
         "62.32645311735319",
         "%%MISS-0%%",
         "ORILISSA",
         "%%MISS-0%%",
         "%%MISS-0%%",
         "True",
         "True",
         "True"
        ]
       ],
       "shape": {
        "columns": 12,
        "rows": 10
       }
      },
      "text/html": [
       "<div>\n",
       "<style scoped>\n",
       "    .dataframe tbody tr th:only-of-type {\n",
       "        vertical-align: middle;\n",
       "    }\n",
       "\n",
       "    .dataframe tbody tr th {\n",
       "        vertical-align: top;\n",
       "    }\n",
       "\n",
       "    .dataframe thead th {\n",
       "        text-align: right;\n",
       "    }\n",
       "</style>\n",
       "<table border=\"1\" class=\"dataframe\">\n",
       "  <thead>\n",
       "    <tr style=\"text-align: right;\">\n",
       "      <th></th>\n",
       "      <th>outc_cod_0%%%0</th>\n",
       "      <th>event_dt%%%1</th>\n",
       "      <th>wt%%%2</th>\n",
       "      <th>wt_cod%%%3</th>\n",
       "      <th>age%%%4</th>\n",
       "      <th>age_cod%%%5</th>\n",
       "      <th>drugname_0%%%6</th>\n",
       "      <th>indi_pt_0%%%7</th>\n",
       "      <th>sex%%%8</th>\n",
       "      <th>wt%%%2_missing</th>\n",
       "      <th>age%%%4_missing</th>\n",
       "      <th>event_dt%%%1_missing</th>\n",
       "    </tr>\n",
       "  </thead>\n",
       "  <tbody>\n",
       "    <tr>\n",
       "      <th>0</th>\n",
       "      <td>%%MISS-0%%</td>\n",
       "      <td>19571.941165</td>\n",
       "      <td>73.657916</td>\n",
       "      <td>%%MISS-0%%</td>\n",
       "      <td>51.314295</td>\n",
       "      <td>%%MISS-0%%</td>\n",
       "      <td>VARGATEF</td>\n",
       "      <td>%%MISS-0%%</td>\n",
       "      <td>%%MISS-0%%</td>\n",
       "      <td>True</td>\n",
       "      <td>True</td>\n",
       "      <td>True</td>\n",
       "    </tr>\n",
       "    <tr>\n",
       "      <th>1</th>\n",
       "      <td>OT</td>\n",
       "      <td>19574.526627</td>\n",
       "      <td>73.702996</td>\n",
       "      <td>%%MISS-0%%</td>\n",
       "      <td>59.706389</td>\n",
       "      <td>%%MISS-0%%</td>\n",
       "      <td>ZESTRIL</td>\n",
       "      <td>%%MISS-0%%</td>\n",
       "      <td>%%MISS-0%%</td>\n",
       "      <td>True</td>\n",
       "      <td>True</td>\n",
       "      <td>True</td>\n",
       "    </tr>\n",
       "    <tr>\n",
       "      <th>2</th>\n",
       "      <td>LT</td>\n",
       "      <td>19578.924485</td>\n",
       "      <td>73.779676</td>\n",
       "      <td>%%MISS-0%%</td>\n",
       "      <td>73.981299</td>\n",
       "      <td>%%MISS-0%%</td>\n",
       "      <td>CASIRIVIMAB\\IMDEVIMAB</td>\n",
       "      <td>Neutrophil function disorder</td>\n",
       "      <td>M</td>\n",
       "      <td>True</td>\n",
       "      <td>True</td>\n",
       "      <td>True</td>\n",
       "    </tr>\n",
       "    <tr>\n",
       "      <th>3</th>\n",
       "      <td>%%MISS-0%%</td>\n",
       "      <td>19575.225284</td>\n",
       "      <td>73.715177</td>\n",
       "      <td>%%MISS-0%%</td>\n",
       "      <td>61.974145</td>\n",
       "      <td>%%MISS-0%%</td>\n",
       "      <td>XTAMPZA ER</td>\n",
       "      <td>%%MISS-0%%</td>\n",
       "      <td>%%MISS-0%%</td>\n",
       "      <td>True</td>\n",
       "      <td>True</td>\n",
       "      <td>True</td>\n",
       "    </tr>\n",
       "    <tr>\n",
       "      <th>4</th>\n",
       "      <td>%%MISS-0%%</td>\n",
       "      <td>19576.282912</td>\n",
       "      <td>73.733618</td>\n",
       "      <td>%%MISS-0%%</td>\n",
       "      <td>65.407077</td>\n",
       "      <td>%%MISS-0%%</td>\n",
       "      <td>BRIGATINIB</td>\n",
       "      <td>Product used for unknown indication</td>\n",
       "      <td>%%MISS-0%%</td>\n",
       "      <td>True</td>\n",
       "      <td>True</td>\n",
       "      <td>True</td>\n",
       "    </tr>\n",
       "    <tr>\n",
       "      <th>5</th>\n",
       "      <td>%%MISS-0%%</td>\n",
       "      <td>19573.905605</td>\n",
       "      <td>73.692168</td>\n",
       "      <td>%%MISS-0%%</td>\n",
       "      <td>57.690628</td>\n",
       "      <td>%%MISS-0%%</td>\n",
       "      <td>UPADACITINIB</td>\n",
       "      <td>%%MISS-0%%</td>\n",
       "      <td>%%MISS-0%%</td>\n",
       "      <td>True</td>\n",
       "      <td>True</td>\n",
       "      <td>True</td>\n",
       "    </tr>\n",
       "    <tr>\n",
       "      <th>6</th>\n",
       "      <td>%%MISS-0%%</td>\n",
       "      <td>19886.428140</td>\n",
       "      <td>29.770553</td>\n",
       "      <td>KG</td>\n",
       "      <td>13.406351</td>\n",
       "      <td>MON</td>\n",
       "      <td>Dolutegravir</td>\n",
       "      <td>Myelodysplastic syndrome</td>\n",
       "      <td>M</td>\n",
       "      <td>False</td>\n",
       "      <td>False</td>\n",
       "      <td>False</td>\n",
       "    </tr>\n",
       "    <tr>\n",
       "      <th>7</th>\n",
       "      <td>%%MISS-0%%</td>\n",
       "      <td>17695.249435</td>\n",
       "      <td>73.712190</td>\n",
       "      <td>%%MISS-0%%</td>\n",
       "      <td>61.417911</td>\n",
       "      <td>%%MISS-0%%</td>\n",
       "      <td>GAMMAPLEX</td>\n",
       "      <td>Metastases to bone</td>\n",
       "      <td>F</td>\n",
       "      <td>True</td>\n",
       "      <td>True</td>\n",
       "      <td>False</td>\n",
       "    </tr>\n",
       "    <tr>\n",
       "      <th>8</th>\n",
       "      <td>%%MISS-0%%</td>\n",
       "      <td>19578.279916</td>\n",
       "      <td>73.768438</td>\n",
       "      <td>%%MISS-0%%</td>\n",
       "      <td>71.889108</td>\n",
       "      <td>%%MISS-0%%</td>\n",
       "      <td>DURVALUMAB</td>\n",
       "      <td>Prostatomegaly</td>\n",
       "      <td>F</td>\n",
       "      <td>True</td>\n",
       "      <td>True</td>\n",
       "      <td>True</td>\n",
       "    </tr>\n",
       "    <tr>\n",
       "      <th>9</th>\n",
       "      <td>%%MISS-0%%</td>\n",
       "      <td>19575.333824</td>\n",
       "      <td>73.717070</td>\n",
       "      <td>%%MISS-0%%</td>\n",
       "      <td>62.326453</td>\n",
       "      <td>%%MISS-0%%</td>\n",
       "      <td>ORILISSA</td>\n",
       "      <td>%%MISS-0%%</td>\n",
       "      <td>%%MISS-0%%</td>\n",
       "      <td>True</td>\n",
       "      <td>True</td>\n",
       "      <td>True</td>\n",
       "    </tr>\n",
       "  </tbody>\n",
       "</table>\n",
       "</div>"
      ],
      "text/plain": [
       "  outc_cod_0%%%0  event_dt%%%1     wt%%%2  wt_cod%%%3    age%%%4 age_cod%%%5         drugname_0%%%6                        indi_pt_0%%%7     sex%%%8  wt%%%2_missing  age%%%4_missing  event_dt%%%1_missing\n",
       "0     %%MISS-0%%  19571.941165  73.657916  %%MISS-0%%  51.314295  %%MISS-0%%               VARGATEF                           %%MISS-0%%  %%MISS-0%%            True             True                  True\n",
       "1             OT  19574.526627  73.702996  %%MISS-0%%  59.706389  %%MISS-0%%                ZESTRIL                           %%MISS-0%%  %%MISS-0%%            True             True                  True\n",
       "2             LT  19578.924485  73.779676  %%MISS-0%%  73.981299  %%MISS-0%%  CASIRIVIMAB\\IMDEVIMAB         Neutrophil function disorder           M            True             True                  True\n",
       "3     %%MISS-0%%  19575.225284  73.715177  %%MISS-0%%  61.974145  %%MISS-0%%             XTAMPZA ER                           %%MISS-0%%  %%MISS-0%%            True             True                  True\n",
       "4     %%MISS-0%%  19576.282912  73.733618  %%MISS-0%%  65.407077  %%MISS-0%%             BRIGATINIB  Product used for unknown indication  %%MISS-0%%            True             True                  True\n",
       "5     %%MISS-0%%  19573.905605  73.692168  %%MISS-0%%  57.690628  %%MISS-0%%           UPADACITINIB                           %%MISS-0%%  %%MISS-0%%            True             True                  True\n",
       "6     %%MISS-0%%  19886.428140  29.770553          KG  13.406351         MON           Dolutegravir             Myelodysplastic syndrome           M           False            False                 False\n",
       "7     %%MISS-0%%  17695.249435  73.712190  %%MISS-0%%  61.417911  %%MISS-0%%              GAMMAPLEX                   Metastases to bone           F            True             True                 False\n",
       "8     %%MISS-0%%  19578.279916  73.768438  %%MISS-0%%  71.889108  %%MISS-0%%             DURVALUMAB                       Prostatomegaly           F            True             True                  True\n",
       "9     %%MISS-0%%  19575.333824  73.717070  %%MISS-0%%  62.326453  %%MISS-0%%               ORILISSA                           %%MISS-0%%  %%MISS-0%%            True             True                  True"
      ]
     },
     "execution_count": 16,
     "metadata": {},
     "output_type": "execute_result"
    }
   ],
   "source": [
    "gen.enc_synths[0].head(10)"
   ]
  },
  {
   "cell_type": "markdown",
   "metadata": {},
   "source": [
    "The synthetic datasets need to be decoded and we can use `unload` method as the final step to retrieve the list of the generated synthetic data sets, which is called below `synths`."
   ]
  },
  {
   "cell_type": "code",
   "execution_count": 17,
   "metadata": {},
   "outputs": [],
   "source": [
    "synths=gen.unload()"
   ]
  },
  {
   "cell_type": "markdown",
   "metadata": {},
   "source": [
    "Let us check the first 10 records of the first synthetic data set."
   ]
  },
  {
   "cell_type": "code",
   "execution_count": 18,
   "metadata": {},
   "outputs": [
    {
     "data": {
      "application/vnd.microsoft.datawrangler.viewer.v0+json": {
       "columns": [
        {
         "name": "index",
         "rawType": "int64",
         "type": "integer"
        },
        {
         "name": "outc_cod_0",
         "rawType": "category",
         "type": "unknown"
        },
        {
         "name": "event_dt",
         "rawType": "datetime64[ns]",
         "type": "datetime"
        },
        {
         "name": "wt",
         "rawType": "float64",
         "type": "float"
        },
        {
         "name": "wt_cod",
         "rawType": "category",
         "type": "unknown"
        },
        {
         "name": "age",
         "rawType": "Int64",
         "type": "integer"
        },
        {
         "name": "age_cod",
         "rawType": "category",
         "type": "unknown"
        },
        {
         "name": "drugname_0",
         "rawType": "category",
         "type": "unknown"
        },
        {
         "name": "indi_pt_0",
         "rawType": "category",
         "type": "unknown"
        },
        {
         "name": "sex",
         "rawType": "category",
         "type": "unknown"
        }
       ],
       "conversionMethod": "pd.DataFrame",
       "ref": "26123c2b-0828-4c40-97b5-362ab2bc8e2e",
       "rows": [
        [
         "0",
         null,
         null,
         null,
         null,
         null,
         null,
         "VARGATEF",
         null,
         null
        ],
        [
         "1",
         "OT",
         null,
         null,
         null,
         null,
         null,
         "ZESTRIL",
         null,
         null
        ],
        [
         "2",
         "LT",
         null,
         null,
         null,
         null,
         null,
         "CASIRIVIMAB\\IMDEVIMAB",
         "Neutrophil function disorder",
         "M"
        ],
        [
         "3",
         null,
         null,
         null,
         null,
         null,
         null,
         "XTAMPZA ER",
         null,
         null
        ],
        [
         "4",
         null,
         null,
         null,
         null,
         null,
         null,
         "BRIGATINIB",
         "Product used for unknown indication",
         null
        ],
        [
         "5",
         null,
         null,
         null,
         null,
         null,
         null,
         "UPADACITINIB",
         null,
         null
        ],
        [
         "6",
         null,
         "2019-06-13 00:00:00",
         "29.77055343352471",
         "KG",
         "13",
         "MON",
         "Dolutegravir",
         "Myelodysplastic syndrome",
         "M"
        ],
        [
         "7",
         null,
         "2013-06-13 00:00:00",
         null,
         null,
         null,
         null,
         "GAMMAPLEX",
         "Metastases to bone",
         "F"
        ],
        [
         "8",
         null,
         null,
         null,
         null,
         null,
         null,
         "DURVALUMAB",
         "Prostatomegaly",
         "F"
        ],
        [
         "9",
         null,
         null,
         null,
         null,
         null,
         null,
         "ORILISSA",
         null,
         null
        ]
       ],
       "shape": {
        "columns": 9,
        "rows": 10
       }
      },
      "text/html": [
       "<div>\n",
       "<style scoped>\n",
       "    .dataframe tbody tr th:only-of-type {\n",
       "        vertical-align: middle;\n",
       "    }\n",
       "\n",
       "    .dataframe tbody tr th {\n",
       "        vertical-align: top;\n",
       "    }\n",
       "\n",
       "    .dataframe thead th {\n",
       "        text-align: right;\n",
       "    }\n",
       "</style>\n",
       "<table border=\"1\" class=\"dataframe\">\n",
       "  <thead>\n",
       "    <tr style=\"text-align: right;\">\n",
       "      <th></th>\n",
       "      <th>outc_cod_0</th>\n",
       "      <th>event_dt</th>\n",
       "      <th>wt</th>\n",
       "      <th>wt_cod</th>\n",
       "      <th>age</th>\n",
       "      <th>age_cod</th>\n",
       "      <th>drugname_0</th>\n",
       "      <th>indi_pt_0</th>\n",
       "      <th>sex</th>\n",
       "    </tr>\n",
       "  </thead>\n",
       "  <tbody>\n",
       "    <tr>\n",
       "      <th>0</th>\n",
       "      <td>NaN</td>\n",
       "      <td>NaT</td>\n",
       "      <td>NaN</td>\n",
       "      <td>NaN</td>\n",
       "      <td>&lt;NA&gt;</td>\n",
       "      <td>NaN</td>\n",
       "      <td>VARGATEF</td>\n",
       "      <td>NaN</td>\n",
       "      <td>NaN</td>\n",
       "    </tr>\n",
       "    <tr>\n",
       "      <th>1</th>\n",
       "      <td>OT</td>\n",
       "      <td>NaT</td>\n",
       "      <td>NaN</td>\n",
       "      <td>NaN</td>\n",
       "      <td>&lt;NA&gt;</td>\n",
       "      <td>NaN</td>\n",
       "      <td>ZESTRIL</td>\n",
       "      <td>NaN</td>\n",
       "      <td>NaN</td>\n",
       "    </tr>\n",
       "    <tr>\n",
       "      <th>2</th>\n",
       "      <td>LT</td>\n",
       "      <td>NaT</td>\n",
       "      <td>NaN</td>\n",
       "      <td>NaN</td>\n",
       "      <td>&lt;NA&gt;</td>\n",
       "      <td>NaN</td>\n",
       "      <td>CASIRIVIMAB\\IMDEVIMAB</td>\n",
       "      <td>Neutrophil function disorder</td>\n",
       "      <td>M</td>\n",
       "    </tr>\n",
       "    <tr>\n",
       "      <th>3</th>\n",
       "      <td>NaN</td>\n",
       "      <td>NaT</td>\n",
       "      <td>NaN</td>\n",
       "      <td>NaN</td>\n",
       "      <td>&lt;NA&gt;</td>\n",
       "      <td>NaN</td>\n",
       "      <td>XTAMPZA ER</td>\n",
       "      <td>NaN</td>\n",
       "      <td>NaN</td>\n",
       "    </tr>\n",
       "    <tr>\n",
       "      <th>4</th>\n",
       "      <td>NaN</td>\n",
       "      <td>NaT</td>\n",
       "      <td>NaN</td>\n",
       "      <td>NaN</td>\n",
       "      <td>&lt;NA&gt;</td>\n",
       "      <td>NaN</td>\n",
       "      <td>BRIGATINIB</td>\n",
       "      <td>Product used for unknown indication</td>\n",
       "      <td>NaN</td>\n",
       "    </tr>\n",
       "    <tr>\n",
       "      <th>5</th>\n",
       "      <td>NaN</td>\n",
       "      <td>NaT</td>\n",
       "      <td>NaN</td>\n",
       "      <td>NaN</td>\n",
       "      <td>&lt;NA&gt;</td>\n",
       "      <td>NaN</td>\n",
       "      <td>UPADACITINIB</td>\n",
       "      <td>NaN</td>\n",
       "      <td>NaN</td>\n",
       "    </tr>\n",
       "    <tr>\n",
       "      <th>6</th>\n",
       "      <td>NaN</td>\n",
       "      <td>2019-06-13</td>\n",
       "      <td>29.770553</td>\n",
       "      <td>KG</td>\n",
       "      <td>13</td>\n",
       "      <td>MON</td>\n",
       "      <td>Dolutegravir</td>\n",
       "      <td>Myelodysplastic syndrome</td>\n",
       "      <td>M</td>\n",
       "    </tr>\n",
       "    <tr>\n",
       "      <th>7</th>\n",
       "      <td>NaN</td>\n",
       "      <td>2013-06-13</td>\n",
       "      <td>NaN</td>\n",
       "      <td>NaN</td>\n",
       "      <td>&lt;NA&gt;</td>\n",
       "      <td>NaN</td>\n",
       "      <td>GAMMAPLEX</td>\n",
       "      <td>Metastases to bone</td>\n",
       "      <td>F</td>\n",
       "    </tr>\n",
       "    <tr>\n",
       "      <th>8</th>\n",
       "      <td>NaN</td>\n",
       "      <td>NaT</td>\n",
       "      <td>NaN</td>\n",
       "      <td>NaN</td>\n",
       "      <td>&lt;NA&gt;</td>\n",
       "      <td>NaN</td>\n",
       "      <td>DURVALUMAB</td>\n",
       "      <td>Prostatomegaly</td>\n",
       "      <td>F</td>\n",
       "    </tr>\n",
       "    <tr>\n",
       "      <th>9</th>\n",
       "      <td>NaN</td>\n",
       "      <td>NaT</td>\n",
       "      <td>NaN</td>\n",
       "      <td>NaN</td>\n",
       "      <td>&lt;NA&gt;</td>\n",
       "      <td>NaN</td>\n",
       "      <td>ORILISSA</td>\n",
       "      <td>NaN</td>\n",
       "      <td>NaN</td>\n",
       "    </tr>\n",
       "  </tbody>\n",
       "</table>\n",
       "</div>"
      ],
      "text/plain": [
       "  outc_cod_0   event_dt         wt wt_cod   age age_cod             drugname_0                            indi_pt_0  sex\n",
       "0        NaN        NaT        NaN    NaN  <NA>     NaN               VARGATEF                                  NaN  NaN\n",
       "1         OT        NaT        NaN    NaN  <NA>     NaN                ZESTRIL                                  NaN  NaN\n",
       "2         LT        NaT        NaN    NaN  <NA>     NaN  CASIRIVIMAB\\IMDEVIMAB         Neutrophil function disorder    M\n",
       "3        NaN        NaT        NaN    NaN  <NA>     NaN             XTAMPZA ER                                  NaN  NaN\n",
       "4        NaN        NaT        NaN    NaN  <NA>     NaN             BRIGATINIB  Product used for unknown indication  NaN\n",
       "5        NaN        NaT        NaN    NaN  <NA>     NaN           UPADACITINIB                                  NaN  NaN\n",
       "6        NaN 2019-06-13  29.770553     KG    13     MON           Dolutegravir             Myelodysplastic syndrome    M\n",
       "7        NaN 2013-06-13        NaN    NaN  <NA>     NaN              GAMMAPLEX                   Metastases to bone    F\n",
       "8        NaN        NaT        NaN    NaN  <NA>     NaN             DURVALUMAB                       Prostatomegaly    F\n",
       "9        NaN        NaT        NaN    NaN  <NA>     NaN               ORILISSA                                  NaN  NaN"
      ]
     },
     "execution_count": 18,
     "metadata": {},
     "output_type": "execute_result"
    }
   ],
   "source": [
    "synths[0].head(10)"
   ]
  },
  {
   "cell_type": "markdown",
   "metadata": {},
   "source": [
    "Clearly, the final generated `synthetic` data sets have exactly the same data types and column names and arrangements of the `real` data set."
   ]
  },
  {
   "cell_type": "code",
   "execution_count": 19,
   "metadata": {},
   "outputs": [
    {
     "data": {
      "text/plain": [
       "outc_cod_0          category\n",
       "event_dt      datetime64[ns]\n",
       "wt                   float64\n",
       "wt_cod              category\n",
       "age                    Int64\n",
       "age_cod             category\n",
       "drugname_0          category\n",
       "indi_pt_0           category\n",
       "sex                 category\n",
       "dtype: object"
      ]
     },
     "execution_count": 19,
     "metadata": {},
     "output_type": "execute_result"
    }
   ],
   "source": [
    "synths[0].dtypes"
   ]
  }
 ],
 "metadata": {
  "kernelspec": {
   "display_name": "pysdg_dev",
   "language": "python",
   "name": "python3"
  },
  "language_info": {
   "codemirror_mode": {
    "name": "ipython",
    "version": 3
   },
   "file_extension": ".py",
   "mimetype": "text/x-python",
   "name": "python",
   "nbconvert_exporter": "python",
   "pygments_lexer": "ipython3",
   "version": "3.10.14"
  }
 },
 "nbformat": 4,
 "nbformat_minor": 2
}
