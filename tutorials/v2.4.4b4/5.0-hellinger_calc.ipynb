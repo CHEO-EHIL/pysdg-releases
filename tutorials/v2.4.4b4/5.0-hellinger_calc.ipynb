{
 "cells": [
  {
   "cell_type": "markdown",
   "metadata": {},
   "source": [
    "#### This tutorial demonstrates how to calculate the Hellinger distance between real and synthetic data."
   ]
  },
  {
   "cell_type": "code",
   "execution_count": 11,
   "metadata": {},
   "outputs": [],
   "source": [
    "# Import necessary modules\n",
    "from pysdg.synth.generate import Generator  \n",
    "from pysdg.synth.metrics import calc_univar_hellinger_distance, calc_multivar_hellinger_distance"
   ]
  },
  {
   "cell_type": "code",
   "execution_count": 12,
   "metadata": {},
   "outputs": [],
   "source": [
    "# Define your paths to the raw data and raw info files.\n",
    "raw_data_path='raw_data.csv'\n",
    "raw_info_path='raw_info.json'"
   ]
  },
  {
   "cell_type": "code",
   "execution_count": 13,
   "metadata": {},
   "outputs": [
    {
     "name": "stderr",
     "output_type": "stream",
     "text": [
      "2025-03-13 13:12:03,054 - pysdg - INFO - 48002 - generate.py:100 - **************Started logging the generator: synthcity/bayesian_network, num_cores= None.**************\n",
      "INFO:pysdg:**************Started logging the generator: synthcity/bayesian_network, num_cores= None.**************\n",
      "2025-03-13 13:12:03,067 - pysdg - INFO - 48002 - generate.py:298 - Checking the input metadata for any conflict in variable indexes - Passed.\n",
      "INFO:pysdg:Checking the input metadata for any conflict in variable indexes - Passed.\n",
      "2025-03-13 13:12:03,817 - pysdg - INFO - 48002 - generate.py:410 - The dataset ['tutorial_data'] is loaded into the generator synthcity_bayesian_network\n",
      "INFO:pysdg:The dataset ['tutorial_data'] is loaded into the generator synthcity_bayesian_network\n",
      "[2025-03-13T13:12:03.819339-0400][48002][CRITICAL] module disabled: /home/samer/miniconda3/envs/pysdg_dev/lib/python3.10/site-packages/synthcity/plugins/generic/plugin_goggle.py\n",
      "2025-03-13 13:12:03,822 - pysdg - INFO - 48002 - generate.py:832 - Started training using synthcity_bayesian_network...\n",
      "INFO:pysdg:Started training using synthcity_bayesian_network...\n",
      "2025-03-13 13:12:08,560 - pysdg - INFO - 48002 - generate.py:837 - Completed training using synthcity_bayesian_network.\n",
      "INFO:pysdg:Completed training using synthcity_bayesian_network.\n",
      "2025-03-13 13:12:09,226 - pysdg - INFO - 48002 - generate.py:886 - Generating synth no. 0 of size (10000, 12) -- Completed!\n",
      "INFO:pysdg:Generating synth no. 0 of size (10000, 12) -- Completed!\n"
     ]
    }
   ],
   "source": [
    "# Generate synthetic data.\n",
    "gen=Generator(\"synthcity/bayesian_network\")\n",
    "real=gen.load(raw_data_path, raw_info_path)\n",
    "gen.train()\n",
    "gen.gen(num_rows=len(real), num_synths=1)\n",
    "synth=gen.unload()[0]"
   ]
  },
  {
   "cell_type": "code",
   "execution_count": 14,
   "metadata": {},
   "outputs": [
    {
     "name": "stderr",
     "output_type": "stream",
     "text": [
      "2025-03-13 13:12:09,283 - pysdg - INFO - 48002 - generate.py:100 - **************Started logging the generator: dummy, num_cores= None.**************\n",
      "INFO:pysdg:**************Started logging the generator: dummy, num_cores= None.**************\n",
      "2025-03-13 13:12:10,021 - pysdg - INFO - 48002 - generate.py:410 - The dataset ['unnamed'] is loaded into the generator dummy\n",
      "INFO:pysdg:The dataset ['unnamed'] is loaded into the generator dummy\n",
      "2025-03-13 13:12:10,024 - pysdg - INFO - 48002 - generate.py:100 - **************Started logging the generator: dummy, num_cores= None.**************\n",
      "INFO:pysdg:**************Started logging the generator: dummy, num_cores= None.**************\n",
      "2025-03-13 13:12:10,772 - pysdg - INFO - 48002 - generate.py:410 - The dataset ['unnamed'] is loaded into the generator dummy\n",
      "INFO:pysdg:The dataset ['unnamed'] is loaded into the generator dummy\n"
     ]
    },
    {
     "data": {
      "text/plain": [
       "0.015668162134330452"
      ]
     },
     "execution_count": 14,
     "metadata": {},
     "output_type": "execute_result"
    }
   ],
   "source": [
    "# Compute the univariate median Hellinger distance between the real and the synthetic data.\n",
    "calc_univar_hellinger_distance(real,synth)['hlngr_median']"
   ]
  },
  {
   "cell_type": "code",
   "execution_count": 15,
   "metadata": {},
   "outputs": [
    {
     "ename": "ValueError",
     "evalue": "\n                         Passed dataframe must only contain columns of type [<class 'numpy.number'>, 'category'].\n                         Columns [('event_dt', dtype('<M8[ns]'))] are of invalid.\n                         ",
     "output_type": "error",
     "traceback": [
      "\u001b[0;31m---------------------------------------------------------------------------\u001b[0m",
      "\u001b[0;31mValueError\u001b[0m                                Traceback (most recent call last)",
      "Cell \u001b[0;32mIn[15], line 2\u001b[0m\n\u001b[1;32m      1\u001b[0m \u001b[38;5;66;03m# Compute the multivariate Hellinger distance between the real and the synthetic data.\u001b[39;00m\n\u001b[0;32m----> 2\u001b[0m \u001b[43mcalc_multivar_hellinger_distance\u001b[49m\u001b[43m(\u001b[49m\u001b[43mreal\u001b[49m\u001b[43m,\u001b[49m\u001b[43msynth\u001b[49m\u001b[43m)\u001b[49m\n",
      "File \u001b[0;32m~/projects/pysdg/src/pysdg/synth/metrics.py:277\u001b[0m, in \u001b[0;36mcalc_multivar_hellinger_distance\u001b[0;34m(df1, df2, encoded, epsilon)\u001b[0m\n\u001b[1;32m    274\u001b[0m \u001b[38;5;28;01mif\u001b[39;00m np\u001b[38;5;241m.\u001b[39mall(df1\u001b[38;5;241m.\u001b[39mcolumns \u001b[38;5;241m!=\u001b[39m df2\u001b[38;5;241m.\u001b[39mcolumns):\n\u001b[1;32m    275\u001b[0m     \u001b[38;5;28;01mraise\u001b[39;00m \u001b[38;5;167;01mValueError\u001b[39;00m(\u001b[38;5;124m\"\u001b[39m\u001b[38;5;124mColumns of the two dataframes do not match.\u001b[39m\u001b[38;5;124m\"\u001b[39m)\n\u001b[0;32m--> 277\u001b[0m \u001b[43mcheck_df_types\u001b[49m\u001b[43m(\u001b[49m\u001b[43mdf1\u001b[49m\u001b[43m)\u001b[49m \n\u001b[1;32m    278\u001b[0m check_df_types(df2)\n\u001b[1;32m    280\u001b[0m \u001b[38;5;28;01mif\u001b[39;00m encoded \u001b[38;5;129;01mis\u001b[39;00m \u001b[38;5;28;01mFalse\u001b[39;00m: \n",
      "File \u001b[0;32m~/projects/pysdg/src/pysdg/synth/utils.py:182\u001b[0m, in \u001b[0;36mcheck_df_types\u001b[0;34m(df)\u001b[0m\n\u001b[1;32m    180\u001b[0m \u001b[38;5;28;01mif\u001b[39;00m \u001b[38;5;28mlen\u001b[39m (invalid_cols\u001b[38;5;241m.\u001b[39mcolumns) \u001b[38;5;241m!=\u001b[39m \u001b[38;5;241m0\u001b[39m:\n\u001b[1;32m    181\u001b[0m     invalid_columns_info \u001b[38;5;241m=\u001b[39m [(col, df[col]\u001b[38;5;241m.\u001b[39mdtype) \u001b[38;5;28;01mfor\u001b[39;00m col \u001b[38;5;129;01min\u001b[39;00m invalid_cols\u001b[38;5;241m.\u001b[39mcolumns]\n\u001b[0;32m--> 182\u001b[0m     \u001b[38;5;28;01mraise\u001b[39;00m \u001b[38;5;167;01mValueError\u001b[39;00m(\u001b[38;5;124mf\u001b[39m\u001b[38;5;124m\"\"\"\u001b[39m\n\u001b[1;32m    183\u001b[0m \u001b[38;5;124m                     Passed dataframe must only contain columns of type \u001b[39m\u001b[38;5;132;01m{\u001b[39;00mvalid_types\u001b[38;5;132;01m}\u001b[39;00m\u001b[38;5;124m.\u001b[39m\n\u001b[1;32m    184\u001b[0m \u001b[38;5;124m                     Columns \u001b[39m\u001b[38;5;132;01m{\u001b[39;00minvalid_columns_info\u001b[38;5;132;01m}\u001b[39;00m\u001b[38;5;124m are of invalid.\u001b[39m\n\u001b[1;32m    185\u001b[0m \u001b[38;5;124m                     \u001b[39m\u001b[38;5;124m\"\"\"\u001b[39m)\n",
      "\u001b[0;31mValueError\u001b[0m: \n                         Passed dataframe must only contain columns of type [<class 'numpy.number'>, 'category'].\n                         Columns [('event_dt', dtype('<M8[ns]'))] are of invalid.\n                         "
     ]
    }
   ],
   "source": [
    "# Compute the multivariate Hellinger distance between the real and the synthetic data.\n",
    "calc_multivar_hellinger_distance(real,synth)"
   ]
  }
 ],
 "metadata": {
  "kernelspec": {
   "display_name": "pysdg_dev",
   "language": "python",
   "name": "python3"
  },
  "language_info": {
   "codemirror_mode": {
    "name": "ipython",
    "version": 3
   },
   "file_extension": ".py",
   "mimetype": "text/x-python",
   "name": "python",
   "nbconvert_exporter": "python",
   "pygments_lexer": "ipython3",
   "version": "3.10.14"
  }
 },
 "nbformat": 4,
 "nbformat_minor": 2
}
